{
 "cells": [
  {
   "cell_type": "code",
   "execution_count": 35,
   "id": "e056935d",
   "metadata": {},
   "outputs": [
    {
     "name": "stdout",
     "output_type": "stream",
     "text": [
      "Requirement already satisfied: google-api-python-client in c:\\users\\ahoya\\anaconda3\\lib\\site-packages (2.169.0)\n",
      "Requirement already satisfied: httplib2<1.0.0,>=0.19.0 in c:\\users\\ahoya\\anaconda3\\lib\\site-packages (from google-api-python-client) (0.22.0)\n",
      "Requirement already satisfied: google-auth!=2.24.0,!=2.25.0,<3.0.0,>=1.32.0 in c:\\users\\ahoya\\anaconda3\\lib\\site-packages (from google-api-python-client) (2.40.0)\n",
      "Requirement already satisfied: google-auth-httplib2<1.0.0,>=0.2.0 in c:\\users\\ahoya\\anaconda3\\lib\\site-packages (from google-api-python-client) (0.2.0)\n",
      "Requirement already satisfied: google-api-core!=2.0.*,!=2.1.*,!=2.2.*,!=2.3.0,<3.0.0,>=1.31.5 in c:\\users\\ahoya\\anaconda3\\lib\\site-packages (from google-api-python-client) (2.24.2)\n",
      "Requirement already satisfied: uritemplate<5,>=3.0.1 in c:\\users\\ahoya\\anaconda3\\lib\\site-packages (from google-api-python-client) (4.1.1)\n",
      "Requirement already satisfied: googleapis-common-protos<2.0.0,>=1.56.2 in c:\\users\\ahoya\\anaconda3\\lib\\site-packages (from google-api-core!=2.0.*,!=2.1.*,!=2.2.*,!=2.3.0,<3.0.0,>=1.31.5->google-api-python-client) (1.70.0)\n",
      "Requirement already satisfied: protobuf!=3.20.0,!=3.20.1,!=4.21.0,!=4.21.1,!=4.21.2,!=4.21.3,!=4.21.4,!=4.21.5,<7.0.0,>=3.19.5 in c:\\users\\ahoya\\anaconda3\\lib\\site-packages (from google-api-core!=2.0.*,!=2.1.*,!=2.2.*,!=2.3.0,<3.0.0,>=1.31.5->google-api-python-client) (3.20.3)\n",
      "Requirement already satisfied: proto-plus<2.0.0,>=1.22.3 in c:\\users\\ahoya\\anaconda3\\lib\\site-packages (from google-api-core!=2.0.*,!=2.1.*,!=2.2.*,!=2.3.0,<3.0.0,>=1.31.5->google-api-python-client) (1.26.1)\n",
      "Requirement already satisfied: requests<3.0.0,>=2.18.0 in c:\\users\\ahoya\\anaconda3\\lib\\site-packages (from google-api-core!=2.0.*,!=2.1.*,!=2.2.*,!=2.3.0,<3.0.0,>=1.31.5->google-api-python-client) (2.32.3)\n",
      "Requirement already satisfied: cachetools<6.0,>=2.0.0 in c:\\users\\ahoya\\anaconda3\\lib\\site-packages (from google-auth!=2.24.0,!=2.25.0,<3.0.0,>=1.32.0->google-api-python-client) (4.2.2)\n",
      "Requirement already satisfied: pyasn1-modules>=0.2.1 in c:\\users\\ahoya\\anaconda3\\lib\\site-packages (from google-auth!=2.24.0,!=2.25.0,<3.0.0,>=1.32.0->google-api-python-client) (0.2.8)\n",
      "Requirement already satisfied: rsa<5,>=3.1.4 in c:\\users\\ahoya\\anaconda3\\lib\\site-packages (from google-auth!=2.24.0,!=2.25.0,<3.0.0,>=1.32.0->google-api-python-client) (4.9.1)\n",
      "Requirement already satisfied: pyparsing!=3.0.0,!=3.0.1,!=3.0.2,!=3.0.3,<4,>=2.4.2 in c:\\users\\ahoya\\anaconda3\\lib\\site-packages (from httplib2<1.0.0,>=0.19.0->google-api-python-client) (3.0.9)\n",
      "Requirement already satisfied: pyasn1<0.5.0,>=0.4.6 in c:\\users\\ahoya\\anaconda3\\lib\\site-packages (from pyasn1-modules>=0.2.1->google-auth!=2.24.0,!=2.25.0,<3.0.0,>=1.32.0->google-api-python-client) (0.4.8)\n",
      "Requirement already satisfied: charset-normalizer<4,>=2 in c:\\users\\ahoya\\anaconda3\\lib\\site-packages (from requests<3.0.0,>=2.18.0->google-api-core!=2.0.*,!=2.1.*,!=2.2.*,!=2.3.0,<3.0.0,>=1.31.5->google-api-python-client) (2.0.4)\n",
      "Requirement already satisfied: idna<4,>=2.5 in c:\\users\\ahoya\\anaconda3\\lib\\site-packages (from requests<3.0.0,>=2.18.0->google-api-core!=2.0.*,!=2.1.*,!=2.2.*,!=2.3.0,<3.0.0,>=1.31.5->google-api-python-client) (3.4)\n",
      "Requirement already satisfied: urllib3<3,>=1.21.1 in c:\\users\\ahoya\\anaconda3\\lib\\site-packages (from requests<3.0.0,>=2.18.0->google-api-core!=2.0.*,!=2.1.*,!=2.2.*,!=2.3.0,<3.0.0,>=1.31.5->google-api-python-client) (2.0.7)\n",
      "Requirement already satisfied: certifi>=2017.4.17 in c:\\users\\ahoya\\anaconda3\\lib\\site-packages (from requests<3.0.0,>=2.18.0->google-api-core!=2.0.*,!=2.1.*,!=2.2.*,!=2.3.0,<3.0.0,>=1.31.5->google-api-python-client) (2025.1.31)\n"
     ]
    },
    {
     "name": "stderr",
     "output_type": "stream",
     "text": [
      "ERROR: Could not find a version that satisfies the requirement googleapiclient.discovery (from versions: none)\n",
      "ERROR: No matching distribution found for googleapiclient.discovery\n"
     ]
    },
    {
     "name": "stdout",
     "output_type": "stream",
     "text": [
      "Requirement already satisfied: IPython in c:\\users\\ahoya\\anaconda3\\lib\\site-packages (8.20.0)\n",
      "Requirement already satisfied: decorator in c:\\users\\ahoya\\anaconda3\\lib\\site-packages (from IPython) (5.1.1)\n",
      "Requirement already satisfied: jedi>=0.16 in c:\\users\\ahoya\\anaconda3\\lib\\site-packages (from IPython) (0.18.1)\n",
      "Requirement already satisfied: matplotlib-inline in c:\\users\\ahoya\\anaconda3\\lib\\site-packages (from IPython) (0.1.6)\n",
      "Requirement already satisfied: prompt-toolkit<3.1.0,>=3.0.41 in c:\\users\\ahoya\\anaconda3\\lib\\site-packages (from IPython) (3.0.43)\n",
      "Requirement already satisfied: pygments>=2.4.0 in c:\\users\\ahoya\\anaconda3\\lib\\site-packages (from IPython) (2.15.1)\n",
      "Requirement already satisfied: stack-data in c:\\users\\ahoya\\anaconda3\\lib\\site-packages (from IPython) (0.2.0)\n",
      "Requirement already satisfied: traitlets>=5 in c:\\users\\ahoya\\anaconda3\\lib\\site-packages (from IPython) (5.7.1)\n",
      "Requirement already satisfied: colorama in c:\\users\\ahoya\\anaconda3\\lib\\site-packages (from IPython) (0.4.6)\n",
      "Requirement already satisfied: parso<0.9.0,>=0.8.0 in c:\\users\\ahoya\\anaconda3\\lib\\site-packages (from jedi>=0.16->IPython) (0.8.3)\n",
      "Requirement already satisfied: wcwidth in c:\\users\\ahoya\\anaconda3\\lib\\site-packages (from prompt-toolkit<3.1.0,>=3.0.41->IPython) (0.2.5)\n",
      "Requirement already satisfied: executing in c:\\users\\ahoya\\anaconda3\\lib\\site-packages (from stack-data->IPython) (0.8.3)\n",
      "Requirement already satisfied: asttokens in c:\\users\\ahoya\\anaconda3\\lib\\site-packages (from stack-data->IPython) (2.0.5)\n",
      "Requirement already satisfied: pure-eval in c:\\users\\ahoya\\anaconda3\\lib\\site-packages (from stack-data->IPython) (0.2.2)\n",
      "Requirement already satisfied: six in c:\\users\\ahoya\\anaconda3\\lib\\site-packages (from asttokens->stack-data->IPython) (1.16.0)\n"
     ]
    }
   ],
   "source": [
    "\n",
    "!pip install google-api-python-client\n",
    "!pip install googleapiclient.discovery\n",
    "!pip install IPython\n",
    "import pandas as pd\n",
    "import seaborn as sns\n",
    "import matplotlib.pyplot as plt\n",
    "from config.config import YOUTUBE_API_KEY\n",
    "from googleapiclient.discovery import build\n",
    "from IPython.display import JSON\n"
   ]
  },
  {
   "cell_type": "code",
   "execution_count": 22,
   "id": "239a7abd",
   "metadata": {},
   "outputs": [],
   "source": [
    "api_service_name = \"youtube\"\n",
    "api_version = \"v3\"\n",
    "\n",
    "youtube = build(\n",
    "    api_service_name, api_version, developerKey=YOUTUBE_API_KEY)\n"
   ]
  },
  {
   "cell_type": "code",
   "execution_count": 23,
   "id": "2cd5a164",
   "metadata": {},
   "outputs": [],
   "source": [
    "channel_ids = [\n",
    "    'UCtatfZMf-8EkIwASXM4ts0A',\n",
    "    'UC8butISFwT-Wl7EV0hUK0BQ',\n",
    "    'UC7cs8q-gJRlGwj4A8OmCmXg',\n",
    "    'UCtYLUTtgS3k1Fg4y5tAhLbw',\n",
    "    'UCKQdc0-Targ4nDIAUrlfKiA',\n",
    "    \n",
    "]"
   ]
  },
  {
   "cell_type": "code",
   "execution_count": 24,
   "id": "f8f7c5d9",
   "metadata": {},
   "outputs": [
    {
     "name": "stdout",
     "output_type": "stream",
     "text": [
      "{'kind': 'youtube#channelListResponse', 'etag': 'cgWh6s9hbrskGGiMfXl98HXTDA8', 'pageInfo': {'totalResults': 5, 'resultsPerPage': 5}, 'items': [{'kind': 'youtube#channel', 'etag': 'lq2kYW8YyDH8tCRjak29lUqUDvE', 'id': 'UC7cs8q-gJRlGwj4A8OmCmXg', 'snippet': {'title': 'Alex The Analyst', 'description': 'My name is Alex Freberg and on this channel I will be going over everything you need to know to become a Data Analyst. If you are wanting to make a career change or learn the skills needed to become a Data Analyst, be sure to subscribe to stay up to date on all my latest content.\\n\\nYou can find me on LinkedIn at:\\nhttps://www.linkedin.com/in/alex-freberg/\\n\\nAlexTheAnalyst.com\\nhttps://www.alextheanalyst.com/\\n\\nDiscord Channel:\\nhttps://discord.gg/rxZUjNvRzR\\n\\nTwitter:\\n@Alex_TheAnalyst\\n\\n', 'customUrl': '@alextheanalyst', 'publishedAt': '2020-01-08T05:04:24.970712Z', 'thumbnails': {'default': {'url': 'https://yt3.ggpht.com/ytc/AIdro_l9wLnClpLKJeVmP5XwHy4NF_Gu13GfyRT1WTZDaSYS-g=s88-c-k-c0x00ffffff-no-rj', 'width': 88, 'height': 88}, 'medium': {'url': 'https://yt3.ggpht.com/ytc/AIdro_l9wLnClpLKJeVmP5XwHy4NF_Gu13GfyRT1WTZDaSYS-g=s240-c-k-c0x00ffffff-no-rj', 'width': 240, 'height': 240}, 'high': {'url': 'https://yt3.ggpht.com/ytc/AIdro_l9wLnClpLKJeVmP5XwHy4NF_Gu13GfyRT1WTZDaSYS-g=s800-c-k-c0x00ffffff-no-rj', 'width': 800, 'height': 800}}, 'localized': {'title': 'Alex The Analyst', 'description': 'My name is Alex Freberg and on this channel I will be going over everything you need to know to become a Data Analyst. If you are wanting to make a career change or learn the skills needed to become a Data Analyst, be sure to subscribe to stay up to date on all my latest content.\\n\\nYou can find me on LinkedIn at:\\nhttps://www.linkedin.com/in/alex-freberg/\\n\\nAlexTheAnalyst.com\\nhttps://www.alextheanalyst.com/\\n\\nDiscord Channel:\\nhttps://discord.gg/rxZUjNvRzR\\n\\nTwitter:\\n@Alex_TheAnalyst\\n\\n'}, 'country': 'US'}, 'contentDetails': {'relatedPlaylists': {'likes': '', 'uploads': 'UU7cs8q-gJRlGwj4A8OmCmXg'}}, 'statistics': {'viewCount': '49251084', 'subscriberCount': '1050000', 'hiddenSubscriberCount': False, 'videoCount': '360'}}, {'kind': 'youtube#channel', 'etag': 'RZ54Y1XAs21UcvYN8XnweV0EkZE', 'id': 'UC8butISFwT-Wl7EV0hUK0BQ', 'snippet': {'title': 'freeCodeCamp.org', 'description': 'Learn to code for free.', 'customUrl': '@freecodecamp', 'publishedAt': '2014-12-16T21:18:48Z', 'thumbnails': {'default': {'url': 'https://yt3.ggpht.com/ytc/AIdro_lGRc-05M2OoE1ejQdxeFhyP7OkJg9h4Y-7CK_5je3QqFI=s88-c-k-c0x00ffffff-no-rj', 'width': 88, 'height': 88}, 'medium': {'url': 'https://yt3.ggpht.com/ytc/AIdro_lGRc-05M2OoE1ejQdxeFhyP7OkJg9h4Y-7CK_5je3QqFI=s240-c-k-c0x00ffffff-no-rj', 'width': 240, 'height': 240}, 'high': {'url': 'https://yt3.ggpht.com/ytc/AIdro_lGRc-05M2OoE1ejQdxeFhyP7OkJg9h4Y-7CK_5je3QqFI=s800-c-k-c0x00ffffff-no-rj', 'width': 800, 'height': 800}}, 'localized': {'title': 'freeCodeCamp.org', 'description': 'Learn to code for free.'}, 'country': 'US'}, 'contentDetails': {'relatedPlaylists': {'likes': '', 'uploads': 'UU8butISFwT-Wl7EV0hUK0BQ'}}, 'statistics': {'viewCount': '859363683', 'subscriberCount': '10700000', 'hiddenSubscriberCount': False, 'videoCount': '1848'}}, {'kind': 'youtube#channel', 'etag': 'HtRFMROco2aDEWZlYmbY927YzCs', 'id': 'UCtatfZMf-8EkIwASXM4ts0A', 'snippet': {'title': 'AssemblyAI', 'description': \"Welcome to the AssemblyAI YouTube channel, where we cover the latest innovations in AI and how to build AI-powered features fast.\\n\\nAt AssemblyAI, we are leveraging the latest AI research to continuously improve accuracy and offer production-ready AI models — all with a developer-friendly API.\\n\\nWe love to share what we know best. So on this channel, we bring you the latest developments in AI, tutorials, and educational videos on Machine Learning and Deep Learning. Every week, we'll be with you with fresh content.\\n\\nYou can follow us on other social media too! \\n\\n- Follow us on Twitter: https://twitter.com/AssemblyAI\\n- Join our Discord: https://discord.gg/aSMMpMadFh\\n\\nTo see AssemblyAI in action, try our playground: https://www.assemblyai.com/playground/?utm_source=youtube&utm_medium=referral&utm_campaign=about\\n\\nTo see all the models we offer and start using them with a free API token visit our website: https://www.assemblyai.com/?utm_source=youtube&utm_medium=referral&utm_campaign=about\\n\\n\", 'customUrl': '@assemblyai', 'publishedAt': '2020-08-31T18:36:35.725854Z', 'thumbnails': {'default': {'url': 'https://yt3.ggpht.com/5z_-jPDKLrUlaxA0Ow7BRdIAwbh6YQYrqU3pd8Cm6okahuJ3BaawiEPpdWUhwE98v_j3ugUAbA=s88-c-k-c0x00ffffff-no-rj', 'width': 88, 'height': 88}, 'medium': {'url': 'https://yt3.ggpht.com/5z_-jPDKLrUlaxA0Ow7BRdIAwbh6YQYrqU3pd8Cm6okahuJ3BaawiEPpdWUhwE98v_j3ugUAbA=s240-c-k-c0x00ffffff-no-rj', 'width': 240, 'height': 240}, 'high': {'url': 'https://yt3.ggpht.com/5z_-jPDKLrUlaxA0Ow7BRdIAwbh6YQYrqU3pd8Cm6okahuJ3BaawiEPpdWUhwE98v_j3ugUAbA=s800-c-k-c0x00ffffff-no-rj', 'width': 800, 'height': 800}}, 'localized': {'title': 'AssemblyAI', 'description': \"Welcome to the AssemblyAI YouTube channel, where we cover the latest innovations in AI and how to build AI-powered features fast.\\n\\nAt AssemblyAI, we are leveraging the latest AI research to continuously improve accuracy and offer production-ready AI models — all with a developer-friendly API.\\n\\nWe love to share what we know best. So on this channel, we bring you the latest developments in AI, tutorials, and educational videos on Machine Learning and Deep Learning. Every week, we'll be with you with fresh content.\\n\\nYou can follow us on other social media too! \\n\\n- Follow us on Twitter: https://twitter.com/AssemblyAI\\n- Join our Discord: https://discord.gg/aSMMpMadFh\\n\\nTo see AssemblyAI in action, try our playground: https://www.assemblyai.com/playground/?utm_source=youtube&utm_medium=referral&utm_campaign=about\\n\\nTo see all the models we offer and start using them with a free API token visit our website: https://www.assemblyai.com/?utm_source=youtube&utm_medium=referral&utm_campaign=about\\n\\n\"}, 'country': 'US'}, 'contentDetails': {'relatedPlaylists': {'likes': '', 'uploads': 'UUtatfZMf-8EkIwASXM4ts0A'}}, 'statistics': {'viewCount': '14388204', 'subscriberCount': '166000', 'hiddenSubscriberCount': False, 'videoCount': '362'}}, {'kind': 'youtube#channel', 'etag': '6gR3bf6PFQPnmaBiM8jIuJsUE0o', 'id': 'UCKQdc0-Targ4nDIAUrlfKiA', 'snippet': {'title': 'Python Simplified', 'description': \"Hi everyone! My name is Mariya and I'm a software developer from Vancouver, British Columbia.\\nI film simple programming tutorials about Computer Science Concepts, GUI Applications, Machine Learning and Artificial Intelligence, Automation and Web Scraping, Data Science and even Math! 🤓\\nI'm here to help you with your programming journey (in particular - your Python programming journey 😉) and show you how many beautiful and powerful things we can do with code! 💪💪💪\\n\", 'customUrl': '@pythonsimplified', 'publishedAt': '2019-01-25T00:48:09Z', 'thumbnails': {'default': {'url': 'https://yt3.ggpht.com/ytc/AIdro_ngt_N86CG1gQ576UmAbpFyxnCZddjPWzzKXzTfxljsZkM=s88-c-k-c0x00ffffff-no-rj', 'width': 88, 'height': 88}, 'medium': {'url': 'https://yt3.ggpht.com/ytc/AIdro_ngt_N86CG1gQ576UmAbpFyxnCZddjPWzzKXzTfxljsZkM=s240-c-k-c0x00ffffff-no-rj', 'width': 240, 'height': 240}, 'high': {'url': 'https://yt3.ggpht.com/ytc/AIdro_ngt_N86CG1gQ576UmAbpFyxnCZddjPWzzKXzTfxljsZkM=s800-c-k-c0x00ffffff-no-rj', 'width': 800, 'height': 800}}, 'localized': {'title': 'Python Simplified', 'description': \"Hi everyone! My name is Mariya and I'm a software developer from Vancouver, British Columbia.\\nI film simple programming tutorials about Computer Science Concepts, GUI Applications, Machine Learning and Artificial Intelligence, Automation and Web Scraping, Data Science and even Math! 🤓\\nI'm here to help you with your programming journey (in particular - your Python programming journey 😉) and show you how many beautiful and powerful things we can do with code! 💪💪💪\\n\"}, 'country': 'CA'}, 'contentDetails': {'relatedPlaylists': {'likes': '', 'uploads': 'UUKQdc0-Targ4nDIAUrlfKiA'}}, 'statistics': {'viewCount': '11401941', 'subscriberCount': '256000', 'hiddenSubscriberCount': False, 'videoCount': '193'}}, {'kind': 'youtube#channel', 'etag': 'R1TLRKGCSLxQ2F6PnFHZd8mSbaA', 'id': 'UCtYLUTtgS3k1Fg4y5tAhLbw', 'snippet': {'title': 'StatQuest with Josh Starmer', 'description': \"Statistics, Machine Learning and Data Science can sometimes seem like very scary topics, but since each technique is really just a combination of small and simple steps, they are actually quite simple. My goal with StatQuest is to break down the major methodologies into easy to understand pieces. That said, I don't dumb down the material. Instead, I build up your understanding so that you are smarter.\\n\\nContact, Video Index, Etc: https://statquest.org\", 'customUrl': '@statquest', 'publishedAt': '2011-05-24T01:52:48Z', 'thumbnails': {'default': {'url': 'https://yt3.ggpht.com/Lzc9YzCKTkcA1My5A5pbsqaEtOoGc0ncWpCJiOQs2-0win3Tjf5XxmDFEYUiVM9jOTuhMjGs=s88-c-k-c0x00ffffff-no-rj', 'width': 88, 'height': 88}, 'medium': {'url': 'https://yt3.ggpht.com/Lzc9YzCKTkcA1My5A5pbsqaEtOoGc0ncWpCJiOQs2-0win3Tjf5XxmDFEYUiVM9jOTuhMjGs=s240-c-k-c0x00ffffff-no-rj', 'width': 240, 'height': 240}, 'high': {'url': 'https://yt3.ggpht.com/Lzc9YzCKTkcA1My5A5pbsqaEtOoGc0ncWpCJiOQs2-0win3Tjf5XxmDFEYUiVM9jOTuhMjGs=s800-c-k-c0x00ffffff-no-rj', 'width': 800, 'height': 800}}, 'localized': {'title': 'StatQuest with Josh Starmer', 'description': \"Statistics, Machine Learning and Data Science can sometimes seem like very scary topics, but since each technique is really just a combination of small and simple steps, they are actually quite simple. My goal with StatQuest is to break down the major methodologies into easy to understand pieces. That said, I don't dumb down the material. Instead, I build up your understanding so that you are smarter.\\n\\nContact, Video Index, Etc: https://statquest.org\"}, 'country': 'US'}, 'contentDetails': {'relatedPlaylists': {'likes': '', 'uploads': 'UUtYLUTtgS3k1Fg4y5tAhLbw'}}, 'statistics': {'viewCount': '78733800', 'subscriberCount': '1400000', 'hiddenSubscriberCount': False, 'videoCount': '291'}}]}\n"
     ]
    }
   ],
   "source": [
    "request = youtube.channels().list(\n",
    "    part=\"snippet,contentDetails,statistics\",\n",
    "    id=\",\".join(channel_ids)\n",
    ")\n",
    "response = request.execute()\n",
    "\n",
    "print(response)\n"
   ]
  },
  {
   "cell_type": "code",
   "execution_count": 25,
   "id": "f864d35b",
   "metadata": {},
   "outputs": [
    {
     "data": {
      "application/json": {
       "etag": "cgWh6s9hbrskGGiMfXl98HXTDA8",
       "items": [
        {
         "contentDetails": {
          "relatedPlaylists": {
           "likes": "",
           "uploads": "UU7cs8q-gJRlGwj4A8OmCmXg"
          }
         },
         "etag": "lq2kYW8YyDH8tCRjak29lUqUDvE",
         "id": "UC7cs8q-gJRlGwj4A8OmCmXg",
         "kind": "youtube#channel",
         "snippet": {
          "country": "US",
          "customUrl": "@alextheanalyst",
          "description": "My name is Alex Freberg and on this channel I will be going over everything you need to know to become a Data Analyst. If you are wanting to make a career change or learn the skills needed to become a Data Analyst, be sure to subscribe to stay up to date on all my latest content.\n\nYou can find me on LinkedIn at:\nhttps://www.linkedin.com/in/alex-freberg/\n\nAlexTheAnalyst.com\nhttps://www.alextheanalyst.com/\n\nDiscord Channel:\nhttps://discord.gg/rxZUjNvRzR\n\nTwitter:\n@Alex_TheAnalyst\n\n",
          "localized": {
           "description": "My name is Alex Freberg and on this channel I will be going over everything you need to know to become a Data Analyst. If you are wanting to make a career change or learn the skills needed to become a Data Analyst, be sure to subscribe to stay up to date on all my latest content.\n\nYou can find me on LinkedIn at:\nhttps://www.linkedin.com/in/alex-freberg/\n\nAlexTheAnalyst.com\nhttps://www.alextheanalyst.com/\n\nDiscord Channel:\nhttps://discord.gg/rxZUjNvRzR\n\nTwitter:\n@Alex_TheAnalyst\n\n",
           "title": "Alex The Analyst"
          },
          "publishedAt": "2020-01-08T05:04:24.970712Z",
          "thumbnails": {
           "default": {
            "height": 88,
            "url": "https://yt3.ggpht.com/ytc/AIdro_l9wLnClpLKJeVmP5XwHy4NF_Gu13GfyRT1WTZDaSYS-g=s88-c-k-c0x00ffffff-no-rj",
            "width": 88
           },
           "high": {
            "height": 800,
            "url": "https://yt3.ggpht.com/ytc/AIdro_l9wLnClpLKJeVmP5XwHy4NF_Gu13GfyRT1WTZDaSYS-g=s800-c-k-c0x00ffffff-no-rj",
            "width": 800
           },
           "medium": {
            "height": 240,
            "url": "https://yt3.ggpht.com/ytc/AIdro_l9wLnClpLKJeVmP5XwHy4NF_Gu13GfyRT1WTZDaSYS-g=s240-c-k-c0x00ffffff-no-rj",
            "width": 240
           }
          },
          "title": "Alex The Analyst"
         },
         "statistics": {
          "hiddenSubscriberCount": false,
          "subscriberCount": "1050000",
          "videoCount": "360",
          "viewCount": "49251084"
         }
        },
        {
         "contentDetails": {
          "relatedPlaylists": {
           "likes": "",
           "uploads": "UU8butISFwT-Wl7EV0hUK0BQ"
          }
         },
         "etag": "RZ54Y1XAs21UcvYN8XnweV0EkZE",
         "id": "UC8butISFwT-Wl7EV0hUK0BQ",
         "kind": "youtube#channel",
         "snippet": {
          "country": "US",
          "customUrl": "@freecodecamp",
          "description": "Learn to code for free.",
          "localized": {
           "description": "Learn to code for free.",
           "title": "freeCodeCamp.org"
          },
          "publishedAt": "2014-12-16T21:18:48Z",
          "thumbnails": {
           "default": {
            "height": 88,
            "url": "https://yt3.ggpht.com/ytc/AIdro_lGRc-05M2OoE1ejQdxeFhyP7OkJg9h4Y-7CK_5je3QqFI=s88-c-k-c0x00ffffff-no-rj",
            "width": 88
           },
           "high": {
            "height": 800,
            "url": "https://yt3.ggpht.com/ytc/AIdro_lGRc-05M2OoE1ejQdxeFhyP7OkJg9h4Y-7CK_5je3QqFI=s800-c-k-c0x00ffffff-no-rj",
            "width": 800
           },
           "medium": {
            "height": 240,
            "url": "https://yt3.ggpht.com/ytc/AIdro_lGRc-05M2OoE1ejQdxeFhyP7OkJg9h4Y-7CK_5je3QqFI=s240-c-k-c0x00ffffff-no-rj",
            "width": 240
           }
          },
          "title": "freeCodeCamp.org"
         },
         "statistics": {
          "hiddenSubscriberCount": false,
          "subscriberCount": "10700000",
          "videoCount": "1848",
          "viewCount": "859363683"
         }
        },
        {
         "contentDetails": {
          "relatedPlaylists": {
           "likes": "",
           "uploads": "UUtatfZMf-8EkIwASXM4ts0A"
          }
         },
         "etag": "HtRFMROco2aDEWZlYmbY927YzCs",
         "id": "UCtatfZMf-8EkIwASXM4ts0A",
         "kind": "youtube#channel",
         "snippet": {
          "country": "US",
          "customUrl": "@assemblyai",
          "description": "Welcome to the AssemblyAI YouTube channel, where we cover the latest innovations in AI and how to build AI-powered features fast.\n\nAt AssemblyAI, we are leveraging the latest AI research to continuously improve accuracy and offer production-ready AI models — all with a developer-friendly API.\n\nWe love to share what we know best. So on this channel, we bring you the latest developments in AI, tutorials, and educational videos on Machine Learning and Deep Learning. Every week, we'll be with you with fresh content.\n\nYou can follow us on other social media too! \n\n- Follow us on Twitter: https://twitter.com/AssemblyAI\n- Join our Discord: https://discord.gg/aSMMpMadFh\n\nTo see AssemblyAI in action, try our playground: https://www.assemblyai.com/playground/?utm_source=youtube&utm_medium=referral&utm_campaign=about\n\nTo see all the models we offer and start using them with a free API token visit our website: https://www.assemblyai.com/?utm_source=youtube&utm_medium=referral&utm_campaign=about\n\n",
          "localized": {
           "description": "Welcome to the AssemblyAI YouTube channel, where we cover the latest innovations in AI and how to build AI-powered features fast.\n\nAt AssemblyAI, we are leveraging the latest AI research to continuously improve accuracy and offer production-ready AI models — all with a developer-friendly API.\n\nWe love to share what we know best. So on this channel, we bring you the latest developments in AI, tutorials, and educational videos on Machine Learning and Deep Learning. Every week, we'll be with you with fresh content.\n\nYou can follow us on other social media too! \n\n- Follow us on Twitter: https://twitter.com/AssemblyAI\n- Join our Discord: https://discord.gg/aSMMpMadFh\n\nTo see AssemblyAI in action, try our playground: https://www.assemblyai.com/playground/?utm_source=youtube&utm_medium=referral&utm_campaign=about\n\nTo see all the models we offer and start using them with a free API token visit our website: https://www.assemblyai.com/?utm_source=youtube&utm_medium=referral&utm_campaign=about\n\n",
           "title": "AssemblyAI"
          },
          "publishedAt": "2020-08-31T18:36:35.725854Z",
          "thumbnails": {
           "default": {
            "height": 88,
            "url": "https://yt3.ggpht.com/5z_-jPDKLrUlaxA0Ow7BRdIAwbh6YQYrqU3pd8Cm6okahuJ3BaawiEPpdWUhwE98v_j3ugUAbA=s88-c-k-c0x00ffffff-no-rj",
            "width": 88
           },
           "high": {
            "height": 800,
            "url": "https://yt3.ggpht.com/5z_-jPDKLrUlaxA0Ow7BRdIAwbh6YQYrqU3pd8Cm6okahuJ3BaawiEPpdWUhwE98v_j3ugUAbA=s800-c-k-c0x00ffffff-no-rj",
            "width": 800
           },
           "medium": {
            "height": 240,
            "url": "https://yt3.ggpht.com/5z_-jPDKLrUlaxA0Ow7BRdIAwbh6YQYrqU3pd8Cm6okahuJ3BaawiEPpdWUhwE98v_j3ugUAbA=s240-c-k-c0x00ffffff-no-rj",
            "width": 240
           }
          },
          "title": "AssemblyAI"
         },
         "statistics": {
          "hiddenSubscriberCount": false,
          "subscriberCount": "166000",
          "videoCount": "362",
          "viewCount": "14388204"
         }
        },
        {
         "contentDetails": {
          "relatedPlaylists": {
           "likes": "",
           "uploads": "UUKQdc0-Targ4nDIAUrlfKiA"
          }
         },
         "etag": "6gR3bf6PFQPnmaBiM8jIuJsUE0o",
         "id": "UCKQdc0-Targ4nDIAUrlfKiA",
         "kind": "youtube#channel",
         "snippet": {
          "country": "CA",
          "customUrl": "@pythonsimplified",
          "description": "Hi everyone! My name is Mariya and I'm a software developer from Vancouver, British Columbia.\nI film simple programming tutorials about Computer Science Concepts, GUI Applications, Machine Learning and Artificial Intelligence, Automation and Web Scraping, Data Science and even Math! 🤓\nI'm here to help you with your programming journey (in particular - your Python programming journey 😉) and show you how many beautiful and powerful things we can do with code! 💪💪💪\n",
          "localized": {
           "description": "Hi everyone! My name is Mariya and I'm a software developer from Vancouver, British Columbia.\nI film simple programming tutorials about Computer Science Concepts, GUI Applications, Machine Learning and Artificial Intelligence, Automation and Web Scraping, Data Science and even Math! 🤓\nI'm here to help you with your programming journey (in particular - your Python programming journey 😉) and show you how many beautiful and powerful things we can do with code! 💪💪💪\n",
           "title": "Python Simplified"
          },
          "publishedAt": "2019-01-25T00:48:09Z",
          "thumbnails": {
           "default": {
            "height": 88,
            "url": "https://yt3.ggpht.com/ytc/AIdro_ngt_N86CG1gQ576UmAbpFyxnCZddjPWzzKXzTfxljsZkM=s88-c-k-c0x00ffffff-no-rj",
            "width": 88
           },
           "high": {
            "height": 800,
            "url": "https://yt3.ggpht.com/ytc/AIdro_ngt_N86CG1gQ576UmAbpFyxnCZddjPWzzKXzTfxljsZkM=s800-c-k-c0x00ffffff-no-rj",
            "width": 800
           },
           "medium": {
            "height": 240,
            "url": "https://yt3.ggpht.com/ytc/AIdro_ngt_N86CG1gQ576UmAbpFyxnCZddjPWzzKXzTfxljsZkM=s240-c-k-c0x00ffffff-no-rj",
            "width": 240
           }
          },
          "title": "Python Simplified"
         },
         "statistics": {
          "hiddenSubscriberCount": false,
          "subscriberCount": "256000",
          "videoCount": "193",
          "viewCount": "11401941"
         }
        },
        {
         "contentDetails": {
          "relatedPlaylists": {
           "likes": "",
           "uploads": "UUtYLUTtgS3k1Fg4y5tAhLbw"
          }
         },
         "etag": "R1TLRKGCSLxQ2F6PnFHZd8mSbaA",
         "id": "UCtYLUTtgS3k1Fg4y5tAhLbw",
         "kind": "youtube#channel",
         "snippet": {
          "country": "US",
          "customUrl": "@statquest",
          "description": "Statistics, Machine Learning and Data Science can sometimes seem like very scary topics, but since each technique is really just a combination of small and simple steps, they are actually quite simple. My goal with StatQuest is to break down the major methodologies into easy to understand pieces. That said, I don't dumb down the material. Instead, I build up your understanding so that you are smarter.\n\nContact, Video Index, Etc: https://statquest.org",
          "localized": {
           "description": "Statistics, Machine Learning and Data Science can sometimes seem like very scary topics, but since each technique is really just a combination of small and simple steps, they are actually quite simple. My goal with StatQuest is to break down the major methodologies into easy to understand pieces. That said, I don't dumb down the material. Instead, I build up your understanding so that you are smarter.\n\nContact, Video Index, Etc: https://statquest.org",
           "title": "StatQuest with Josh Starmer"
          },
          "publishedAt": "2011-05-24T01:52:48Z",
          "thumbnails": {
           "default": {
            "height": 88,
            "url": "https://yt3.ggpht.com/Lzc9YzCKTkcA1My5A5pbsqaEtOoGc0ncWpCJiOQs2-0win3Tjf5XxmDFEYUiVM9jOTuhMjGs=s88-c-k-c0x00ffffff-no-rj",
            "width": 88
           },
           "high": {
            "height": 800,
            "url": "https://yt3.ggpht.com/Lzc9YzCKTkcA1My5A5pbsqaEtOoGc0ncWpCJiOQs2-0win3Tjf5XxmDFEYUiVM9jOTuhMjGs=s800-c-k-c0x00ffffff-no-rj",
            "width": 800
           },
           "medium": {
            "height": 240,
            "url": "https://yt3.ggpht.com/Lzc9YzCKTkcA1My5A5pbsqaEtOoGc0ncWpCJiOQs2-0win3Tjf5XxmDFEYUiVM9jOTuhMjGs=s240-c-k-c0x00ffffff-no-rj",
            "width": 240
           }
          },
          "title": "StatQuest with Josh Starmer"
         },
         "statistics": {
          "hiddenSubscriberCount": false,
          "subscriberCount": "1400000",
          "videoCount": "291",
          "viewCount": "78733800"
         }
        }
       ],
       "kind": "youtube#channelListResponse",
       "pageInfo": {
        "resultsPerPage": 5,
        "totalResults": 5
       }
      },
      "text/plain": [
       "<IPython.core.display.JSON object>"
      ]
     },
     "execution_count": 25,
     "metadata": {
      "application/json": {
       "expanded": false,
       "root": "root"
      }
     },
     "output_type": "execute_result"
    }
   ],
   "source": [
    "JSON(response)"
   ]
  },
  {
   "cell_type": "code",
   "execution_count": null,
   "id": "d91340a2",
   "metadata": {},
   "outputs": [
    {
     "name": "stdout",
     "output_type": "stream",
     "text": [
      "{'title': 'Alex The Analyst', 'description': 'My name is Alex Freberg and on this channel I will be going over everything you need to know to become a Data Analyst. If you are wanting to make a career change or learn the skills needed to become a Data Analyst, be sure to subscribe to stay up to date on all my latest content.\\n\\nYou can find me on LinkedIn at:\\nhttps://www.linkedin.com/in/alex-freberg/\\n\\nAlexTheAnalyst.com\\nhttps://www.alextheanalyst.com/\\n\\nDiscord Channel:\\nhttps://discord.gg/rxZUjNvRzR\\n\\nTwitter:\\n@Alex_TheAnalyst\\n\\n', 'customUrl': '@alextheanalyst', 'country': 'US', 'viewCount': '49251084', 'subscriberCount': '1050000', 'videoCount': '360'}\n",
      "{'title': 'freeCodeCamp.org', 'description': 'Learn to code for free.', 'customUrl': '@freecodecamp', 'country': 'US', 'viewCount': '859363683', 'subscriberCount': '10700000', 'videoCount': '1848'}\n",
      "{'title': 'AssemblyAI', 'description': \"Welcome to the AssemblyAI YouTube channel, where we cover the latest innovations in AI and how to build AI-powered features fast.\\n\\nAt AssemblyAI, we are leveraging the latest AI research to continuously improve accuracy and offer production-ready AI models — all with a developer-friendly API.\\n\\nWe love to share what we know best. So on this channel, we bring you the latest developments in AI, tutorials, and educational videos on Machine Learning and Deep Learning. Every week, we'll be with you with fresh content.\\n\\nYou can follow us on other social media too! \\n\\n- Follow us on Twitter: https://twitter.com/AssemblyAI\\n- Join our Discord: https://discord.gg/aSMMpMadFh\\n\\nTo see AssemblyAI in action, try our playground: https://www.assemblyai.com/playground/?utm_source=youtube&utm_medium=referral&utm_campaign=about\\n\\nTo see all the models we offer and start using them with a free API token visit our website: https://www.assemblyai.com/?utm_source=youtube&utm_medium=referral&utm_campaign=about\\n\\n\", 'customUrl': '@assemblyai', 'country': 'US', 'viewCount': '14388204', 'subscriberCount': '166000', 'videoCount': '362'}\n",
      "{'title': 'Python Simplified', 'description': \"Hi everyone! My name is Mariya and I'm a software developer from Vancouver, British Columbia.\\nI film simple programming tutorials about Computer Science Concepts, GUI Applications, Machine Learning and Artificial Intelligence, Automation and Web Scraping, Data Science and even Math! 🤓\\nI'm here to help you with your programming journey (in particular - your Python programming journey 😉) and show you how many beautiful and powerful things we can do with code! 💪💪💪\\n\", 'customUrl': '@pythonsimplified', 'country': 'CA', 'viewCount': '11401941', 'subscriberCount': '256000', 'videoCount': '193'}\n",
      "{'title': 'StatQuest with Josh Starmer', 'description': \"Statistics, Machine Learning and Data Science can sometimes seem like very scary topics, but since each technique is really just a combination of small and simple steps, they are actually quite simple. My goal with StatQuest is to break down the major methodologies into easy to understand pieces. That said, I don't dumb down the material. Instead, I build up your understanding so that you are smarter.\\n\\nContact, Video Index, Etc: https://statquest.org\", 'customUrl': '@statquest', 'country': 'US', 'viewCount': '78733800', 'subscriberCount': '1400000', 'videoCount': '291'}\n"
     ]
    }
   ],
   "source": [
    "channel_data = []\n",
    "for item in response.get(\"items\", []):\n",
    "    channel_info = {\n",
    "        \"title\": item[\"snippet\"].get(\"title\"),\n",
    "        \"description\": item[\"snippet\"].get(\"description\"),\n",
    "        \"customUrl\": item[\"snippet\"].get(\"customUrl\"),\n",
    "        \"country\": item[\"snippet\"].get(\"country\"),\n",
    "        \"viewCount\": item[\"statistics\"].get(\"viewCount\"),\n",
    "        \"subscriberCount\": item[\"statistics\"].get(\"subscriberCount\"),\n",
    "        \"videoCount\": item[\"statistics\"].get(\"videoCount\"),\n",
    "\n",
    "    }\n",
    "    channel_data.append(channel_info)\n",
    "\n",
    "for channel in channel_data:\n",
    "    print(channel)"
   ]
  },
  {
   "cell_type": "code",
   "execution_count": 36,
   "id": "c1d2fc59",
   "metadata": {},
   "outputs": [
    {
     "data": {
      "text/html": [
       "<div>\n",
       "<style scoped>\n",
       "    .dataframe tbody tr th:only-of-type {\n",
       "        vertical-align: middle;\n",
       "    }\n",
       "\n",
       "    .dataframe tbody tr th {\n",
       "        vertical-align: top;\n",
       "    }\n",
       "\n",
       "    .dataframe thead th {\n",
       "        text-align: right;\n",
       "    }\n",
       "</style>\n",
       "<table border=\"1\" class=\"dataframe\">\n",
       "  <thead>\n",
       "    <tr style=\"text-align: right;\">\n",
       "      <th></th>\n",
       "      <th>title</th>\n",
       "      <th>description</th>\n",
       "      <th>customUrl</th>\n",
       "      <th>country</th>\n",
       "      <th>viewCount</th>\n",
       "      <th>subscriberCount</th>\n",
       "      <th>videoCount</th>\n",
       "    </tr>\n",
       "  </thead>\n",
       "  <tbody>\n",
       "    <tr>\n",
       "      <th>0</th>\n",
       "      <td>Alex The Analyst</td>\n",
       "      <td>My name is Alex Freberg and on this channel I ...</td>\n",
       "      <td>@alextheanalyst</td>\n",
       "      <td>US</td>\n",
       "      <td>49251084</td>\n",
       "      <td>1050000</td>\n",
       "      <td>360</td>\n",
       "    </tr>\n",
       "    <tr>\n",
       "      <th>1</th>\n",
       "      <td>freeCodeCamp.org</td>\n",
       "      <td>Learn to code for free.</td>\n",
       "      <td>@freecodecamp</td>\n",
       "      <td>US</td>\n",
       "      <td>859363683</td>\n",
       "      <td>10700000</td>\n",
       "      <td>1848</td>\n",
       "    </tr>\n",
       "    <tr>\n",
       "      <th>2</th>\n",
       "      <td>AssemblyAI</td>\n",
       "      <td>Welcome to the AssemblyAI YouTube channel, whe...</td>\n",
       "      <td>@assemblyai</td>\n",
       "      <td>US</td>\n",
       "      <td>14388204</td>\n",
       "      <td>166000</td>\n",
       "      <td>362</td>\n",
       "    </tr>\n",
       "    <tr>\n",
       "      <th>3</th>\n",
       "      <td>Python Simplified</td>\n",
       "      <td>Hi everyone! My name is Mariya and I'm a softw...</td>\n",
       "      <td>@pythonsimplified</td>\n",
       "      <td>CA</td>\n",
       "      <td>11401941</td>\n",
       "      <td>256000</td>\n",
       "      <td>193</td>\n",
       "    </tr>\n",
       "    <tr>\n",
       "      <th>4</th>\n",
       "      <td>StatQuest with Josh Starmer</td>\n",
       "      <td>Statistics, Machine Learning and Data Science ...</td>\n",
       "      <td>@statquest</td>\n",
       "      <td>US</td>\n",
       "      <td>78733800</td>\n",
       "      <td>1400000</td>\n",
       "      <td>291</td>\n",
       "    </tr>\n",
       "  </tbody>\n",
       "</table>\n",
       "</div>"
      ],
      "text/plain": [
       "                         title  \\\n",
       "0             Alex The Analyst   \n",
       "1             freeCodeCamp.org   \n",
       "2                   AssemblyAI   \n",
       "3            Python Simplified   \n",
       "4  StatQuest with Josh Starmer   \n",
       "\n",
       "                                         description          customUrl  \\\n",
       "0  My name is Alex Freberg and on this channel I ...    @alextheanalyst   \n",
       "1                            Learn to code for free.      @freecodecamp   \n",
       "2  Welcome to the AssemblyAI YouTube channel, whe...        @assemblyai   \n",
       "3  Hi everyone! My name is Mariya and I'm a softw...  @pythonsimplified   \n",
       "4  Statistics, Machine Learning and Data Science ...         @statquest   \n",
       "\n",
       "  country  viewCount subscriberCount videoCount  \n",
       "0      US   49251084         1050000        360  \n",
       "1      US  859363683        10700000       1848  \n",
       "2      US   14388204          166000        362  \n",
       "3      CA   11401941          256000        193  \n",
       "4      US   78733800         1400000        291  "
      ]
     },
     "execution_count": 36,
     "metadata": {},
     "output_type": "execute_result"
    }
   ],
   "source": [
    "df = pd.DataFrame(channel_data)\n",
    "df"
   ]
  },
  {
   "cell_type": "code",
   "execution_count": null,
   "id": "41aa60e1",
   "metadata": {},
   "outputs": [],
   "source": []
  }
 ],
 "metadata": {
  "kernelspec": {
   "display_name": "base",
   "language": "python",
   "name": "python3"
  },
  "language_info": {
   "codemirror_mode": {
    "name": "ipython",
    "version": 3
   },
   "file_extension": ".py",
   "mimetype": "text/x-python",
   "name": "python",
   "nbconvert_exporter": "python",
   "pygments_lexer": "ipython3",
   "version": "3.11.7"
  }
 },
 "nbformat": 4,
 "nbformat_minor": 5
}
