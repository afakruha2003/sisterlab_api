{
 "cells": [
  {
   "cell_type": "code",
   "execution_count": 1,
   "id": "8ad9f2fb",
   "metadata": {},
   "outputs": [],
   "source": [
    "\n",
    "import pandas as pd\n",
    "import seaborn as sns\n",
    "import matplotlib.pyplot as plt\n",
    "from config.config import YOUTUBE_API_KEY\n",
    "from googleapiclient.discovery import build\n",
    "from IPython.display import JSON\n"
   ]
  },
  {
   "cell_type": "code",
   "execution_count": 2,
   "id": "e15e5cd4",
   "metadata": {},
   "outputs": [],
   "source": [
    "api_service_name = \"youtube\"\n",
    "api_version = \"v3\"\n",
    "\n",
    "youtube = build(\n",
    "    api_service_name, api_version, developerKey=YOUTUBE_API_KEY)"
   ]
  },
  {
   "cell_type": "code",
   "execution_count": 3,
   "id": "4c288d59",
   "metadata": {},
   "outputs": [],
   "source": [
    "channel_ids = [\n",
    "    'UCtatfZMf-8EkIwASXM4ts0A',\n",
    "    'UC8butISFwT-Wl7EV0hUK0BQ',\n",
    "    'UC7cs8q-gJRlGwj4A8OmCmXg',\n",
    "    'UCtYLUTtgS3k1Fg4y5tAhLbw',\n",
    "    'UCKQdc0-Targ4nDIAUrlfKiA',\n",
    "    \n",
    "]\n",
    "\n"
   ]
  },
  {
   "cell_type": "code",
   "execution_count": 4,
   "id": "c1645e27",
   "metadata": {},
   "outputs": [
    {
     "name": "stdout",
     "output_type": "stream",
     "text": [
      "{'kind': 'youtube#channelListResponse', 'etag': 'zFa_yZmdkfWIH-QOcDsZu9BrKaE', 'pageInfo': {'totalResults': 5, 'resultsPerPage': 5}, 'items': [{'kind': 'youtube#channel', 'etag': 'lzEtX7ZPleFQKxPHl2ESZr0gh1Q', 'id': 'UC8butISFwT-Wl7EV0hUK0BQ', 'snippet': {'title': 'freeCodeCamp.org', 'description': 'Learn to code for free.', 'customUrl': '@freecodecamp', 'publishedAt': '2014-12-16T21:18:48Z', 'thumbnails': {'default': {'url': 'https://yt3.ggpht.com/ytc/AIdro_lGRc-05M2OoE1ejQdxeFhyP7OkJg9h4Y-7CK_5je3QqFI=s88-c-k-c0x00ffffff-no-rj', 'width': 88, 'height': 88}, 'medium': {'url': 'https://yt3.ggpht.com/ytc/AIdro_lGRc-05M2OoE1ejQdxeFhyP7OkJg9h4Y-7CK_5je3QqFI=s240-c-k-c0x00ffffff-no-rj', 'width': 240, 'height': 240}, 'high': {'url': 'https://yt3.ggpht.com/ytc/AIdro_lGRc-05M2OoE1ejQdxeFhyP7OkJg9h4Y-7CK_5je3QqFI=s800-c-k-c0x00ffffff-no-rj', 'width': 800, 'height': 800}}, 'localized': {'title': 'freeCodeCamp.org', 'description': 'Learn to code for free.'}, 'country': 'US'}, 'contentDetails': {'relatedPlaylists': {'likes': '', 'uploads': 'UU8butISFwT-Wl7EV0hUK0BQ'}}, 'statistics': {'viewCount': '859507965', 'subscriberCount': '10700000', 'hiddenSubscriberCount': False, 'videoCount': '1848'}}, {'kind': 'youtube#channel', 'etag': 'wvPy9FaNQcVour7ki0TRmC-HNaQ', 'id': 'UC7cs8q-gJRlGwj4A8OmCmXg', 'snippet': {'title': 'Alex The Analyst', 'description': 'My name is Alex Freberg and on this channel I will be going over everything you need to know to become a Data Analyst. If you are wanting to make a career change or learn the skills needed to become a Data Analyst, be sure to subscribe to stay up to date on all my latest content.\\n\\nYou can find me on LinkedIn at:\\nhttps://www.linkedin.com/in/alex-freberg/\\n\\nAlexTheAnalyst.com\\nhttps://www.alextheanalyst.com/\\n\\nDiscord Channel:\\nhttps://discord.gg/rxZUjNvRzR\\n\\nTwitter:\\n@Alex_TheAnalyst\\n\\n', 'customUrl': '@alextheanalyst', 'publishedAt': '2020-01-08T05:04:24.970712Z', 'thumbnails': {'default': {'url': 'https://yt3.ggpht.com/ytc/AIdro_l9wLnClpLKJeVmP5XwHy4NF_Gu13GfyRT1WTZDaSYS-g=s88-c-k-c0x00ffffff-no-rj', 'width': 88, 'height': 88}, 'medium': {'url': 'https://yt3.ggpht.com/ytc/AIdro_l9wLnClpLKJeVmP5XwHy4NF_Gu13GfyRT1WTZDaSYS-g=s240-c-k-c0x00ffffff-no-rj', 'width': 240, 'height': 240}, 'high': {'url': 'https://yt3.ggpht.com/ytc/AIdro_l9wLnClpLKJeVmP5XwHy4NF_Gu13GfyRT1WTZDaSYS-g=s800-c-k-c0x00ffffff-no-rj', 'width': 800, 'height': 800}}, 'localized': {'title': 'Alex The Analyst', 'description': 'My name is Alex Freberg and on this channel I will be going over everything you need to know to become a Data Analyst. If you are wanting to make a career change or learn the skills needed to become a Data Analyst, be sure to subscribe to stay up to date on all my latest content.\\n\\nYou can find me on LinkedIn at:\\nhttps://www.linkedin.com/in/alex-freberg/\\n\\nAlexTheAnalyst.com\\nhttps://www.alextheanalyst.com/\\n\\nDiscord Channel:\\nhttps://discord.gg/rxZUjNvRzR\\n\\nTwitter:\\n@Alex_TheAnalyst\\n\\n'}, 'country': 'US'}, 'contentDetails': {'relatedPlaylists': {'likes': '', 'uploads': 'UU7cs8q-gJRlGwj4A8OmCmXg'}}, 'statistics': {'viewCount': '49270050', 'subscriberCount': '1050000', 'hiddenSubscriberCount': False, 'videoCount': '360'}}, {'kind': 'youtube#channel', 'etag': 'NRMA3kmcicasbBVEsBcCyPeTcls', 'id': 'UCtatfZMf-8EkIwASXM4ts0A', 'snippet': {'title': 'AssemblyAI', 'description': \"Welcome to the AssemblyAI YouTube channel, where we cover the latest innovations in AI and how to build AI-powered features fast.\\n\\nAt AssemblyAI, we are leveraging the latest AI research to continuously improve accuracy and offer production-ready AI models — all with a developer-friendly API.\\n\\nWe love to share what we know best. So on this channel, we bring you the latest developments in AI, tutorials, and educational videos on Machine Learning and Deep Learning. Every week, we'll be with you with fresh content.\\n\\nYou can follow us on other social media too! \\n\\n- Follow us on Twitter: https://twitter.com/AssemblyAI\\n- Join our Discord: https://discord.gg/aSMMpMadFh\\n\\nTo see AssemblyAI in action, try our playground: https://www.assemblyai.com/playground/?utm_source=youtube&utm_medium=referral&utm_campaign=about\\n\\nTo see all the models we offer and start using them with a free API token visit our website: https://www.assemblyai.com/?utm_source=youtube&utm_medium=referral&utm_campaign=about\\n\\n\", 'customUrl': '@assemblyai', 'publishedAt': '2020-08-31T18:36:35.725854Z', 'thumbnails': {'default': {'url': 'https://yt3.ggpht.com/5z_-jPDKLrUlaxA0Ow7BRdIAwbh6YQYrqU3pd8Cm6okahuJ3BaawiEPpdWUhwE98v_j3ugUAbA=s88-c-k-c0x00ffffff-no-rj', 'width': 88, 'height': 88}, 'medium': {'url': 'https://yt3.ggpht.com/5z_-jPDKLrUlaxA0Ow7BRdIAwbh6YQYrqU3pd8Cm6okahuJ3BaawiEPpdWUhwE98v_j3ugUAbA=s240-c-k-c0x00ffffff-no-rj', 'width': 240, 'height': 240}, 'high': {'url': 'https://yt3.ggpht.com/5z_-jPDKLrUlaxA0Ow7BRdIAwbh6YQYrqU3pd8Cm6okahuJ3BaawiEPpdWUhwE98v_j3ugUAbA=s800-c-k-c0x00ffffff-no-rj', 'width': 800, 'height': 800}}, 'localized': {'title': 'AssemblyAI', 'description': \"Welcome to the AssemblyAI YouTube channel, where we cover the latest innovations in AI and how to build AI-powered features fast.\\n\\nAt AssemblyAI, we are leveraging the latest AI research to continuously improve accuracy and offer production-ready AI models — all with a developer-friendly API.\\n\\nWe love to share what we know best. So on this channel, we bring you the latest developments in AI, tutorials, and educational videos on Machine Learning and Deep Learning. Every week, we'll be with you with fresh content.\\n\\nYou can follow us on other social media too! \\n\\n- Follow us on Twitter: https://twitter.com/AssemblyAI\\n- Join our Discord: https://discord.gg/aSMMpMadFh\\n\\nTo see AssemblyAI in action, try our playground: https://www.assemblyai.com/playground/?utm_source=youtube&utm_medium=referral&utm_campaign=about\\n\\nTo see all the models we offer and start using them with a free API token visit our website: https://www.assemblyai.com/?utm_source=youtube&utm_medium=referral&utm_campaign=about\\n\\n\"}, 'country': 'US'}, 'contentDetails': {'relatedPlaylists': {'likes': '', 'uploads': 'UUtatfZMf-8EkIwASXM4ts0A'}}, 'statistics': {'viewCount': '14392035', 'subscriberCount': '166000', 'hiddenSubscriberCount': False, 'videoCount': '362'}}, {'kind': 'youtube#channel', 'etag': 'DJBiexnMD9lITzZKaPTHL7ViIJ4', 'id': 'UCKQdc0-Targ4nDIAUrlfKiA', 'snippet': {'title': 'Python Simplified', 'description': \"Hi everyone! My name is Mariya and I'm a software developer from Vancouver, British Columbia.\\nI film simple programming tutorials about Computer Science Concepts, GUI Applications, Machine Learning and Artificial Intelligence, Automation and Web Scraping, Data Science and even Math! 🤓\\nI'm here to help you with your programming journey (in particular - your Python programming journey 😉) and show you how many beautiful and powerful things we can do with code! 💪💪💪\\n\", 'customUrl': '@pythonsimplified', 'publishedAt': '2019-01-25T00:48:09Z', 'thumbnails': {'default': {'url': 'https://yt3.ggpht.com/ytc/AIdro_ngt_N86CG1gQ576UmAbpFyxnCZddjPWzzKXzTfxljsZkM=s88-c-k-c0x00ffffff-no-rj', 'width': 88, 'height': 88}, 'medium': {'url': 'https://yt3.ggpht.com/ytc/AIdro_ngt_N86CG1gQ576UmAbpFyxnCZddjPWzzKXzTfxljsZkM=s240-c-k-c0x00ffffff-no-rj', 'width': 240, 'height': 240}, 'high': {'url': 'https://yt3.ggpht.com/ytc/AIdro_ngt_N86CG1gQ576UmAbpFyxnCZddjPWzzKXzTfxljsZkM=s800-c-k-c0x00ffffff-no-rj', 'width': 800, 'height': 800}}, 'localized': {'title': 'Python Simplified', 'description': \"Hi everyone! My name is Mariya and I'm a software developer from Vancouver, British Columbia.\\nI film simple programming tutorials about Computer Science Concepts, GUI Applications, Machine Learning and Artificial Intelligence, Automation and Web Scraping, Data Science and even Math! 🤓\\nI'm here to help you with your programming journey (in particular - your Python programming journey 😉) and show you how many beautiful and powerful things we can do with code! 💪💪💪\\n\"}, 'country': 'CA'}, 'contentDetails': {'relatedPlaylists': {'likes': '', 'uploads': 'UUKQdc0-Targ4nDIAUrlfKiA'}}, 'statistics': {'viewCount': '11405274', 'subscriberCount': '256000', 'hiddenSubscriberCount': False, 'videoCount': '193'}}, {'kind': 'youtube#channel', 'etag': 'aOk0WkTPCOGyNjycP8hiZP4ORRQ', 'id': 'UCtYLUTtgS3k1Fg4y5tAhLbw', 'snippet': {'title': 'StatQuest with Josh Starmer', 'description': \"Statistics, Machine Learning and Data Science can sometimes seem like very scary topics, but since each technique is really just a combination of small and simple steps, they are actually quite simple. My goal with StatQuest is to break down the major methodologies into easy to understand pieces. That said, I don't dumb down the material. Instead, I build up your understanding so that you are smarter.\\n\\nContact, Video Index, Etc: https://statquest.org\", 'customUrl': '@statquest', 'publishedAt': '2011-05-24T01:52:48Z', 'thumbnails': {'default': {'url': 'https://yt3.ggpht.com/Lzc9YzCKTkcA1My5A5pbsqaEtOoGc0ncWpCJiOQs2-0win3Tjf5XxmDFEYUiVM9jOTuhMjGs=s88-c-k-c0x00ffffff-no-rj', 'width': 88, 'height': 88}, 'medium': {'url': 'https://yt3.ggpht.com/Lzc9YzCKTkcA1My5A5pbsqaEtOoGc0ncWpCJiOQs2-0win3Tjf5XxmDFEYUiVM9jOTuhMjGs=s240-c-k-c0x00ffffff-no-rj', 'width': 240, 'height': 240}, 'high': {'url': 'https://yt3.ggpht.com/Lzc9YzCKTkcA1My5A5pbsqaEtOoGc0ncWpCJiOQs2-0win3Tjf5XxmDFEYUiVM9jOTuhMjGs=s800-c-k-c0x00ffffff-no-rj', 'width': 800, 'height': 800}}, 'localized': {'title': 'StatQuest with Josh Starmer', 'description': \"Statistics, Machine Learning and Data Science can sometimes seem like very scary topics, but since each technique is really just a combination of small and simple steps, they are actually quite simple. My goal with StatQuest is to break down the major methodologies into easy to understand pieces. That said, I don't dumb down the material. Instead, I build up your understanding so that you are smarter.\\n\\nContact, Video Index, Etc: https://statquest.org\"}, 'country': 'US'}, 'contentDetails': {'relatedPlaylists': {'likes': '', 'uploads': 'UUtYLUTtgS3k1Fg4y5tAhLbw'}}, 'statistics': {'viewCount': '78758088', 'subscriberCount': '1400000', 'hiddenSubscriberCount': False, 'videoCount': '291'}}]}\n"
     ]
    }
   ],
   "source": [
    "request = youtube.channels().list(\n",
    "    part=\"snippet,contentDetails,statistics\",\n",
    "    id=\",\".join(channel_ids)\n",
    ")\n",
    "response = request.execute()\n",
    "\n",
    "print(response)\n"
   ]
  },
  {
   "cell_type": "code",
   "execution_count": 22,
   "id": "01ea0e83",
   "metadata": {},
   "outputs": [
    {
     "data": {
      "application/json": {
       "etag": "x7dEF1cFPWQOLIXaWcw-TDMH2-8",
       "items": [
        {
         "contentDetails": {
          "relatedPlaylists": {
           "likes": "",
           "uploads": "UU7cs8q-gJRlGwj4A8OmCmXg"
          }
         },
         "etag": "wvPy9FaNQcVour7ki0TRmC-HNaQ",
         "id": "UC7cs8q-gJRlGwj4A8OmCmXg",
         "kind": "youtube#channel",
         "snippet": {
          "country": "US",
          "customUrl": "@alextheanalyst",
          "description": "My name is Alex Freberg and on this channel I will be going over everything you need to know to become a Data Analyst. If you are wanting to make a career change or learn the skills needed to become a Data Analyst, be sure to subscribe to stay up to date on all my latest content.\n\nYou can find me on LinkedIn at:\nhttps://www.linkedin.com/in/alex-freberg/\n\nAlexTheAnalyst.com\nhttps://www.alextheanalyst.com/\n\nDiscord Channel:\nhttps://discord.gg/rxZUjNvRzR\n\nTwitter:\n@Alex_TheAnalyst\n\n",
          "localized": {
           "description": "My name is Alex Freberg and on this channel I will be going over everything you need to know to become a Data Analyst. If you are wanting to make a career change or learn the skills needed to become a Data Analyst, be sure to subscribe to stay up to date on all my latest content.\n\nYou can find me on LinkedIn at:\nhttps://www.linkedin.com/in/alex-freberg/\n\nAlexTheAnalyst.com\nhttps://www.alextheanalyst.com/\n\nDiscord Channel:\nhttps://discord.gg/rxZUjNvRzR\n\nTwitter:\n@Alex_TheAnalyst\n\n",
           "title": "Alex The Analyst"
          },
          "publishedAt": "2020-01-08T05:04:24.970712Z",
          "thumbnails": {
           "default": {
            "height": 88,
            "url": "https://yt3.ggpht.com/ytc/AIdro_l9wLnClpLKJeVmP5XwHy4NF_Gu13GfyRT1WTZDaSYS-g=s88-c-k-c0x00ffffff-no-rj",
            "width": 88
           },
           "high": {
            "height": 800,
            "url": "https://yt3.ggpht.com/ytc/AIdro_l9wLnClpLKJeVmP5XwHy4NF_Gu13GfyRT1WTZDaSYS-g=s800-c-k-c0x00ffffff-no-rj",
            "width": 800
           },
           "medium": {
            "height": 240,
            "url": "https://yt3.ggpht.com/ytc/AIdro_l9wLnClpLKJeVmP5XwHy4NF_Gu13GfyRT1WTZDaSYS-g=s240-c-k-c0x00ffffff-no-rj",
            "width": 240
           }
          },
          "title": "Alex The Analyst"
         },
         "statistics": {
          "hiddenSubscriberCount": false,
          "subscriberCount": "1050000",
          "videoCount": "360",
          "viewCount": "49270050"
         }
        },
        {
         "contentDetails": {
          "relatedPlaylists": {
           "likes": "",
           "uploads": "UUKQdc0-Targ4nDIAUrlfKiA"
          }
         },
         "etag": "DJBiexnMD9lITzZKaPTHL7ViIJ4",
         "id": "UCKQdc0-Targ4nDIAUrlfKiA",
         "kind": "youtube#channel",
         "snippet": {
          "country": "CA",
          "customUrl": "@pythonsimplified",
          "description": "Hi everyone! My name is Mariya and I'm a software developer from Vancouver, British Columbia.\nI film simple programming tutorials about Computer Science Concepts, GUI Applications, Machine Learning and Artificial Intelligence, Automation and Web Scraping, Data Science and even Math! 🤓\nI'm here to help you with your programming journey (in particular - your Python programming journey 😉) and show you how many beautiful and powerful things we can do with code! 💪💪💪\n",
          "localized": {
           "description": "Hi everyone! My name is Mariya and I'm a software developer from Vancouver, British Columbia.\nI film simple programming tutorials about Computer Science Concepts, GUI Applications, Machine Learning and Artificial Intelligence, Automation and Web Scraping, Data Science and even Math! 🤓\nI'm here to help you with your programming journey (in particular - your Python programming journey 😉) and show you how many beautiful and powerful things we can do with code! 💪💪💪\n",
           "title": "Python Simplified"
          },
          "publishedAt": "2019-01-25T00:48:09Z",
          "thumbnails": {
           "default": {
            "height": 88,
            "url": "https://yt3.ggpht.com/ytc/AIdro_ngt_N86CG1gQ576UmAbpFyxnCZddjPWzzKXzTfxljsZkM=s88-c-k-c0x00ffffff-no-rj",
            "width": 88
           },
           "high": {
            "height": 800,
            "url": "https://yt3.ggpht.com/ytc/AIdro_ngt_N86CG1gQ576UmAbpFyxnCZddjPWzzKXzTfxljsZkM=s800-c-k-c0x00ffffff-no-rj",
            "width": 800
           },
           "medium": {
            "height": 240,
            "url": "https://yt3.ggpht.com/ytc/AIdro_ngt_N86CG1gQ576UmAbpFyxnCZddjPWzzKXzTfxljsZkM=s240-c-k-c0x00ffffff-no-rj",
            "width": 240
           }
          },
          "title": "Python Simplified"
         },
         "statistics": {
          "hiddenSubscriberCount": false,
          "subscriberCount": "256000",
          "videoCount": "193",
          "viewCount": "11405274"
         }
        },
        {
         "contentDetails": {
          "relatedPlaylists": {
           "likes": "",
           "uploads": "UU8butISFwT-Wl7EV0hUK0BQ"
          }
         },
         "etag": "lzEtX7ZPleFQKxPHl2ESZr0gh1Q",
         "id": "UC8butISFwT-Wl7EV0hUK0BQ",
         "kind": "youtube#channel",
         "snippet": {
          "country": "US",
          "customUrl": "@freecodecamp",
          "description": "Learn to code for free.",
          "localized": {
           "description": "Learn to code for free.",
           "title": "freeCodeCamp.org"
          },
          "publishedAt": "2014-12-16T21:18:48Z",
          "thumbnails": {
           "default": {
            "height": 88,
            "url": "https://yt3.ggpht.com/ytc/AIdro_lGRc-05M2OoE1ejQdxeFhyP7OkJg9h4Y-7CK_5je3QqFI=s88-c-k-c0x00ffffff-no-rj",
            "width": 88
           },
           "high": {
            "height": 800,
            "url": "https://yt3.ggpht.com/ytc/AIdro_lGRc-05M2OoE1ejQdxeFhyP7OkJg9h4Y-7CK_5je3QqFI=s800-c-k-c0x00ffffff-no-rj",
            "width": 800
           },
           "medium": {
            "height": 240,
            "url": "https://yt3.ggpht.com/ytc/AIdro_lGRc-05M2OoE1ejQdxeFhyP7OkJg9h4Y-7CK_5je3QqFI=s240-c-k-c0x00ffffff-no-rj",
            "width": 240
           }
          },
          "title": "freeCodeCamp.org"
         },
         "statistics": {
          "hiddenSubscriberCount": false,
          "subscriberCount": "10700000",
          "videoCount": "1848",
          "viewCount": "859507965"
         }
        },
        {
         "contentDetails": {
          "relatedPlaylists": {
           "likes": "",
           "uploads": "UUtatfZMf-8EkIwASXM4ts0A"
          }
         },
         "etag": "NRMA3kmcicasbBVEsBcCyPeTcls",
         "id": "UCtatfZMf-8EkIwASXM4ts0A",
         "kind": "youtube#channel",
         "snippet": {
          "country": "US",
          "customUrl": "@assemblyai",
          "description": "Welcome to the AssemblyAI YouTube channel, where we cover the latest innovations in AI and how to build AI-powered features fast.\n\nAt AssemblyAI, we are leveraging the latest AI research to continuously improve accuracy and offer production-ready AI models — all with a developer-friendly API.\n\nWe love to share what we know best. So on this channel, we bring you the latest developments in AI, tutorials, and educational videos on Machine Learning and Deep Learning. Every week, we'll be with you with fresh content.\n\nYou can follow us on other social media too! \n\n- Follow us on Twitter: https://twitter.com/AssemblyAI\n- Join our Discord: https://discord.gg/aSMMpMadFh\n\nTo see AssemblyAI in action, try our playground: https://www.assemblyai.com/playground/?utm_source=youtube&utm_medium=referral&utm_campaign=about\n\nTo see all the models we offer and start using them with a free API token visit our website: https://www.assemblyai.com/?utm_source=youtube&utm_medium=referral&utm_campaign=about\n\n",
          "localized": {
           "description": "Welcome to the AssemblyAI YouTube channel, where we cover the latest innovations in AI and how to build AI-powered features fast.\n\nAt AssemblyAI, we are leveraging the latest AI research to continuously improve accuracy and offer production-ready AI models — all with a developer-friendly API.\n\nWe love to share what we know best. So on this channel, we bring you the latest developments in AI, tutorials, and educational videos on Machine Learning and Deep Learning. Every week, we'll be with you with fresh content.\n\nYou can follow us on other social media too! \n\n- Follow us on Twitter: https://twitter.com/AssemblyAI\n- Join our Discord: https://discord.gg/aSMMpMadFh\n\nTo see AssemblyAI in action, try our playground: https://www.assemblyai.com/playground/?utm_source=youtube&utm_medium=referral&utm_campaign=about\n\nTo see all the models we offer and start using them with a free API token visit our website: https://www.assemblyai.com/?utm_source=youtube&utm_medium=referral&utm_campaign=about\n\n",
           "title": "AssemblyAI"
          },
          "publishedAt": "2020-08-31T18:36:35.725854Z",
          "thumbnails": {
           "default": {
            "height": 88,
            "url": "https://yt3.ggpht.com/5z_-jPDKLrUlaxA0Ow7BRdIAwbh6YQYrqU3pd8Cm6okahuJ3BaawiEPpdWUhwE98v_j3ugUAbA=s88-c-k-c0x00ffffff-no-rj",
            "width": 88
           },
           "high": {
            "height": 800,
            "url": "https://yt3.ggpht.com/5z_-jPDKLrUlaxA0Ow7BRdIAwbh6YQYrqU3pd8Cm6okahuJ3BaawiEPpdWUhwE98v_j3ugUAbA=s800-c-k-c0x00ffffff-no-rj",
            "width": 800
           },
           "medium": {
            "height": 240,
            "url": "https://yt3.ggpht.com/5z_-jPDKLrUlaxA0Ow7BRdIAwbh6YQYrqU3pd8Cm6okahuJ3BaawiEPpdWUhwE98v_j3ugUAbA=s240-c-k-c0x00ffffff-no-rj",
            "width": 240
           }
          },
          "title": "AssemblyAI"
         },
         "statistics": {
          "hiddenSubscriberCount": false,
          "subscriberCount": "166000",
          "videoCount": "362",
          "viewCount": "14392035"
         }
        },
        {
         "contentDetails": {
          "relatedPlaylists": {
           "likes": "",
           "uploads": "UUtYLUTtgS3k1Fg4y5tAhLbw"
          }
         },
         "etag": "aOk0WkTPCOGyNjycP8hiZP4ORRQ",
         "id": "UCtYLUTtgS3k1Fg4y5tAhLbw",
         "kind": "youtube#channel",
         "snippet": {
          "country": "US",
          "customUrl": "@statquest",
          "description": "Statistics, Machine Learning and Data Science can sometimes seem like very scary topics, but since each technique is really just a combination of small and simple steps, they are actually quite simple. My goal with StatQuest is to break down the major methodologies into easy to understand pieces. That said, I don't dumb down the material. Instead, I build up your understanding so that you are smarter.\n\nContact, Video Index, Etc: https://statquest.org",
          "localized": {
           "description": "Statistics, Machine Learning and Data Science can sometimes seem like very scary topics, but since each technique is really just a combination of small and simple steps, they are actually quite simple. My goal with StatQuest is to break down the major methodologies into easy to understand pieces. That said, I don't dumb down the material. Instead, I build up your understanding so that you are smarter.\n\nContact, Video Index, Etc: https://statquest.org",
           "title": "StatQuest with Josh Starmer"
          },
          "publishedAt": "2011-05-24T01:52:48Z",
          "thumbnails": {
           "default": {
            "height": 88,
            "url": "https://yt3.ggpht.com/Lzc9YzCKTkcA1My5A5pbsqaEtOoGc0ncWpCJiOQs2-0win3Tjf5XxmDFEYUiVM9jOTuhMjGs=s88-c-k-c0x00ffffff-no-rj",
            "width": 88
           },
           "high": {
            "height": 800,
            "url": "https://yt3.ggpht.com/Lzc9YzCKTkcA1My5A5pbsqaEtOoGc0ncWpCJiOQs2-0win3Tjf5XxmDFEYUiVM9jOTuhMjGs=s800-c-k-c0x00ffffff-no-rj",
            "width": 800
           },
           "medium": {
            "height": 240,
            "url": "https://yt3.ggpht.com/Lzc9YzCKTkcA1My5A5pbsqaEtOoGc0ncWpCJiOQs2-0win3Tjf5XxmDFEYUiVM9jOTuhMjGs=s240-c-k-c0x00ffffff-no-rj",
            "width": 240
           }
          },
          "title": "StatQuest with Josh Starmer"
         },
         "statistics": {
          "hiddenSubscriberCount": false,
          "subscriberCount": "1400000",
          "videoCount": "291",
          "viewCount": "78758088"
         }
        }
       ],
       "kind": "youtube#channelListResponse",
       "pageInfo": {
        "resultsPerPage": 5,
        "totalResults": 5
       }
      },
      "text/plain": [
       "<IPython.core.display.JSON object>"
      ]
     },
     "execution_count": 22,
     "metadata": {
      "application/json": {
       "expanded": false,
       "root": "root"
      }
     },
     "output_type": "execute_result"
    }
   ],
   "source": [
    "JSON(response)"
   ]
  },
  {
   "cell_type": "code",
   "execution_count": 5,
   "id": "c9694fe4",
   "metadata": {},
   "outputs": [
    {
     "name": "stdout",
     "output_type": "stream",
     "text": [
      "{'title': 'freeCodeCamp.org', 'description': 'Learn to code for free.', 'customUrl': '@freecodecamp', 'country': 'US', 'viewCount': '859507965', 'subscriberCount': '10700000', 'videoCount': '1848', 'publishedAt': '2014-12-16T21:18:48Z'}\n",
      "{'title': 'Alex The Analyst', 'description': 'My name is Alex Freberg and on this channel I will be going over everything you need to know to become a Data Analyst. If you are wanting to make a career change or learn the skills needed to become a Data Analyst, be sure to subscribe to stay up to date on all my latest content.\\n\\nYou can find me on LinkedIn at:\\nhttps://www.linkedin.com/in/alex-freberg/\\n\\nAlexTheAnalyst.com\\nhttps://www.alextheanalyst.com/\\n\\nDiscord Channel:\\nhttps://discord.gg/rxZUjNvRzR\\n\\nTwitter:\\n@Alex_TheAnalyst\\n\\n', 'customUrl': '@alextheanalyst', 'country': 'US', 'viewCount': '49270050', 'subscriberCount': '1050000', 'videoCount': '360', 'publishedAt': '2020-01-08T05:04:24.970712Z'}\n",
      "{'title': 'AssemblyAI', 'description': \"Welcome to the AssemblyAI YouTube channel, where we cover the latest innovations in AI and how to build AI-powered features fast.\\n\\nAt AssemblyAI, we are leveraging the latest AI research to continuously improve accuracy and offer production-ready AI models — all with a developer-friendly API.\\n\\nWe love to share what we know best. So on this channel, we bring you the latest developments in AI, tutorials, and educational videos on Machine Learning and Deep Learning. Every week, we'll be with you with fresh content.\\n\\nYou can follow us on other social media too! \\n\\n- Follow us on Twitter: https://twitter.com/AssemblyAI\\n- Join our Discord: https://discord.gg/aSMMpMadFh\\n\\nTo see AssemblyAI in action, try our playground: https://www.assemblyai.com/playground/?utm_source=youtube&utm_medium=referral&utm_campaign=about\\n\\nTo see all the models we offer and start using them with a free API token visit our website: https://www.assemblyai.com/?utm_source=youtube&utm_medium=referral&utm_campaign=about\\n\\n\", 'customUrl': '@assemblyai', 'country': 'US', 'viewCount': '14392035', 'subscriberCount': '166000', 'videoCount': '362', 'publishedAt': '2020-08-31T18:36:35.725854Z'}\n",
      "{'title': 'Python Simplified', 'description': \"Hi everyone! My name is Mariya and I'm a software developer from Vancouver, British Columbia.\\nI film simple programming tutorials about Computer Science Concepts, GUI Applications, Machine Learning and Artificial Intelligence, Automation and Web Scraping, Data Science and even Math! 🤓\\nI'm here to help you with your programming journey (in particular - your Python programming journey 😉) and show you how many beautiful and powerful things we can do with code! 💪💪💪\\n\", 'customUrl': '@pythonsimplified', 'country': 'CA', 'viewCount': '11405274', 'subscriberCount': '256000', 'videoCount': '193', 'publishedAt': '2019-01-25T00:48:09Z'}\n",
      "{'title': 'StatQuest with Josh Starmer', 'description': \"Statistics, Machine Learning and Data Science can sometimes seem like very scary topics, but since each technique is really just a combination of small and simple steps, they are actually quite simple. My goal with StatQuest is to break down the major methodologies into easy to understand pieces. That said, I don't dumb down the material. Instead, I build up your understanding so that you are smarter.\\n\\nContact, Video Index, Etc: https://statquest.org\", 'customUrl': '@statquest', 'country': 'US', 'viewCount': '78758088', 'subscriberCount': '1400000', 'videoCount': '291', 'publishedAt': '2011-05-24T01:52:48Z'}\n"
     ]
    }
   ],
   "source": [
    "channel_data = []\n",
    "for item in response.get(\"items\", []):\n",
    "    channel_info = {\n",
    "        \"title\": item[\"snippet\"].get(\"title\"),\n",
    "        \"description\": item[\"snippet\"].get(\"description\"),\n",
    "        \"customUrl\": item[\"snippet\"].get(\"customUrl\"),\n",
    "        \"country\": item[\"snippet\"].get(\"country\"),\n",
    "        \"viewCount\": item[\"statistics\"].get(\"viewCount\"),\n",
    "        \"subscriberCount\": item[\"statistics\"].get(\"subscriberCount\"),\n",
    "        \"videoCount\": item[\"statistics\"].get(\"videoCount\"),\n",
    "        \"publishedAt\": item[\"snippet\"].get(\"publishedAt\")  # Yayın tarihi ekleniyor\n",
    "\n",
    "    }\n",
    "    channel_data.append(channel_info)\n",
    "\n",
    "for channel in channel_data:\n",
    "    print(channel)\n"
   ]
  },
  {
   "cell_type": "code",
   "execution_count": 6,
   "id": "cc10fc50",
   "metadata": {},
   "outputs": [
    {
     "data": {
      "text/html": [
       "<div>\n",
       "<style scoped>\n",
       "    .dataframe tbody tr th:only-of-type {\n",
       "        vertical-align: middle;\n",
       "    }\n",
       "\n",
       "    .dataframe tbody tr th {\n",
       "        vertical-align: top;\n",
       "    }\n",
       "\n",
       "    .dataframe thead th {\n",
       "        text-align: right;\n",
       "    }\n",
       "</style>\n",
       "<table border=\"1\" class=\"dataframe\">\n",
       "  <thead>\n",
       "    <tr style=\"text-align: right;\">\n",
       "      <th></th>\n",
       "      <th>title</th>\n",
       "      <th>description</th>\n",
       "      <th>customUrl</th>\n",
       "      <th>country</th>\n",
       "      <th>viewCount</th>\n",
       "      <th>subscriberCount</th>\n",
       "      <th>videoCount</th>\n",
       "      <th>publishedAt</th>\n",
       "    </tr>\n",
       "  </thead>\n",
       "  <tbody>\n",
       "    <tr>\n",
       "      <th>0</th>\n",
       "      <td>freeCodeCamp.org</td>\n",
       "      <td>Learn to code for free.</td>\n",
       "      <td>@freecodecamp</td>\n",
       "      <td>US</td>\n",
       "      <td>859507965</td>\n",
       "      <td>10700000</td>\n",
       "      <td>1848</td>\n",
       "      <td>2014-12-16T21:18:48Z</td>\n",
       "    </tr>\n",
       "    <tr>\n",
       "      <th>1</th>\n",
       "      <td>Alex The Analyst</td>\n",
       "      <td>My name is Alex Freberg and on this channel I ...</td>\n",
       "      <td>@alextheanalyst</td>\n",
       "      <td>US</td>\n",
       "      <td>49270050</td>\n",
       "      <td>1050000</td>\n",
       "      <td>360</td>\n",
       "      <td>2020-01-08T05:04:24.970712Z</td>\n",
       "    </tr>\n",
       "    <tr>\n",
       "      <th>2</th>\n",
       "      <td>AssemblyAI</td>\n",
       "      <td>Welcome to the AssemblyAI YouTube channel, whe...</td>\n",
       "      <td>@assemblyai</td>\n",
       "      <td>US</td>\n",
       "      <td>14392035</td>\n",
       "      <td>166000</td>\n",
       "      <td>362</td>\n",
       "      <td>2020-08-31T18:36:35.725854Z</td>\n",
       "    </tr>\n",
       "    <tr>\n",
       "      <th>3</th>\n",
       "      <td>Python Simplified</td>\n",
       "      <td>Hi everyone! My name is Mariya and I'm a softw...</td>\n",
       "      <td>@pythonsimplified</td>\n",
       "      <td>CA</td>\n",
       "      <td>11405274</td>\n",
       "      <td>256000</td>\n",
       "      <td>193</td>\n",
       "      <td>2019-01-25T00:48:09Z</td>\n",
       "    </tr>\n",
       "    <tr>\n",
       "      <th>4</th>\n",
       "      <td>StatQuest with Josh Starmer</td>\n",
       "      <td>Statistics, Machine Learning and Data Science ...</td>\n",
       "      <td>@statquest</td>\n",
       "      <td>US</td>\n",
       "      <td>78758088</td>\n",
       "      <td>1400000</td>\n",
       "      <td>291</td>\n",
       "      <td>2011-05-24T01:52:48Z</td>\n",
       "    </tr>\n",
       "  </tbody>\n",
       "</table>\n",
       "</div>"
      ],
      "text/plain": [
       "                         title  \\\n",
       "0             freeCodeCamp.org   \n",
       "1             Alex The Analyst   \n",
       "2                   AssemblyAI   \n",
       "3            Python Simplified   \n",
       "4  StatQuest with Josh Starmer   \n",
       "\n",
       "                                         description          customUrl  \\\n",
       "0                            Learn to code for free.      @freecodecamp   \n",
       "1  My name is Alex Freberg and on this channel I ...    @alextheanalyst   \n",
       "2  Welcome to the AssemblyAI YouTube channel, whe...        @assemblyai   \n",
       "3  Hi everyone! My name is Mariya and I'm a softw...  @pythonsimplified   \n",
       "4  Statistics, Machine Learning and Data Science ...         @statquest   \n",
       "\n",
       "  country  viewCount subscriberCount videoCount                  publishedAt  \n",
       "0      US  859507965        10700000       1848         2014-12-16T21:18:48Z  \n",
       "1      US   49270050         1050000        360  2020-01-08T05:04:24.970712Z  \n",
       "2      US   14392035          166000        362  2020-08-31T18:36:35.725854Z  \n",
       "3      CA   11405274          256000        193         2019-01-25T00:48:09Z  \n",
       "4      US   78758088         1400000        291         2011-05-24T01:52:48Z  "
      ]
     },
     "execution_count": 6,
     "metadata": {},
     "output_type": "execute_result"
    }
   ],
   "source": [
    "df = pd.DataFrame(channel_data)\n",
    "df\n"
   ]
  },
  {
   "cell_type": "code",
   "execution_count": 7,
   "id": "5fb9325c",
   "metadata": {},
   "outputs": [],
   "source": [
    "df.to_csv('data/kanal_verileri.csv', index=False, encoding='utf-8-sig')"
   ]
  }
 ],
 "metadata": {
  "kernelspec": {
   "display_name": "base",
   "language": "python",
   "name": "python3"
  },
  "language_info": {
   "codemirror_mode": {
    "name": "ipython",
    "version": 3
   },
   "file_extension": ".py",
   "mimetype": "text/x-python",
   "name": "python",
   "nbconvert_exporter": "python",
   "pygments_lexer": "ipython3",
   "version": "3.12.7"
  }
 },
 "nbformat": 4,
 "nbformat_minor": 5
}
