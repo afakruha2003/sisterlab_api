{
 "cells": [
  {
   "cell_type": "code",
   "execution_count": 2,
   "id": "f65b231f",
   "metadata": {},
   "outputs": [],
   "source": [
    "import seaborn as sns\n",
    "import matplotlib.pyplot as plt\n",
    "import pandas as pd\n"
   ]
  },
  {
   "cell_type": "code",
   "execution_count": 4,
   "id": "fe960c2d",
   "metadata": {},
   "outputs": [
    {
     "data": {
      "text/html": [
       "<div>\n",
       "<style scoped>\n",
       "    .dataframe tbody tr th:only-of-type {\n",
       "        vertical-align: middle;\n",
       "    }\n",
       "\n",
       "    .dataframe tbody tr th {\n",
       "        vertical-align: top;\n",
       "    }\n",
       "\n",
       "    .dataframe thead th {\n",
       "        text-align: right;\n",
       "    }\n",
       "</style>\n",
       "<table border=\"1\" class=\"dataframe\">\n",
       "  <thead>\n",
       "    <tr style=\"text-align: right;\">\n",
       "      <th></th>\n",
       "      <th>title</th>\n",
       "      <th>description</th>\n",
       "      <th>customUrl</th>\n",
       "      <th>country</th>\n",
       "      <th>viewCount</th>\n",
       "      <th>subscriberCount</th>\n",
       "      <th>videoCount</th>\n",
       "      <th>publishedAt</th>\n",
       "    </tr>\n",
       "  </thead>\n",
       "  <tbody>\n",
       "    <tr>\n",
       "      <th>0</th>\n",
       "      <td>freeCodeCamp.org</td>\n",
       "      <td>Learn to code for free.</td>\n",
       "      <td>@freecodecamp</td>\n",
       "      <td>US</td>\n",
       "      <td>859507965</td>\n",
       "      <td>10700000</td>\n",
       "      <td>1848</td>\n",
       "      <td>2014-12-16T21:18:48Z</td>\n",
       "    </tr>\n",
       "    <tr>\n",
       "      <th>1</th>\n",
       "      <td>Alex The Analyst</td>\n",
       "      <td>My name is Alex Freberg and on this channel I ...</td>\n",
       "      <td>@alextheanalyst</td>\n",
       "      <td>US</td>\n",
       "      <td>49270050</td>\n",
       "      <td>1050000</td>\n",
       "      <td>360</td>\n",
       "      <td>2020-01-08T05:04:24.970712Z</td>\n",
       "    </tr>\n",
       "    <tr>\n",
       "      <th>2</th>\n",
       "      <td>AssemblyAI</td>\n",
       "      <td>Welcome to the AssemblyAI YouTube channel, whe...</td>\n",
       "      <td>@assemblyai</td>\n",
       "      <td>US</td>\n",
       "      <td>14392035</td>\n",
       "      <td>166000</td>\n",
       "      <td>362</td>\n",
       "      <td>2020-08-31T18:36:35.725854Z</td>\n",
       "    </tr>\n",
       "    <tr>\n",
       "      <th>3</th>\n",
       "      <td>Python Simplified</td>\n",
       "      <td>Hi everyone! My name is Mariya and I'm a softw...</td>\n",
       "      <td>@pythonsimplified</td>\n",
       "      <td>CA</td>\n",
       "      <td>11405274</td>\n",
       "      <td>256000</td>\n",
       "      <td>193</td>\n",
       "      <td>2019-01-25T00:48:09Z</td>\n",
       "    </tr>\n",
       "    <tr>\n",
       "      <th>4</th>\n",
       "      <td>StatQuest with Josh Starmer</td>\n",
       "      <td>Statistics, Machine Learning and Data Science ...</td>\n",
       "      <td>@statquest</td>\n",
       "      <td>US</td>\n",
       "      <td>78758088</td>\n",
       "      <td>1400000</td>\n",
       "      <td>291</td>\n",
       "      <td>2011-05-24T01:52:48Z</td>\n",
       "    </tr>\n",
       "  </tbody>\n",
       "</table>\n",
       "</div>"
      ],
      "text/plain": [
       "                         title  \\\n",
       "0             freeCodeCamp.org   \n",
       "1             Alex The Analyst   \n",
       "2                   AssemblyAI   \n",
       "3            Python Simplified   \n",
       "4  StatQuest with Josh Starmer   \n",
       "\n",
       "                                         description          customUrl  \\\n",
       "0                            Learn to code for free.      @freecodecamp   \n",
       "1  My name is Alex Freberg and on this channel I ...    @alextheanalyst   \n",
       "2  Welcome to the AssemblyAI YouTube channel, whe...        @assemblyai   \n",
       "3  Hi everyone! My name is Mariya and I'm a softw...  @pythonsimplified   \n",
       "4  Statistics, Machine Learning and Data Science ...         @statquest   \n",
       "\n",
       "  country  viewCount  subscriberCount  videoCount                  publishedAt  \n",
       "0      US  859507965         10700000        1848         2014-12-16T21:18:48Z  \n",
       "1      US   49270050          1050000         360  2020-01-08T05:04:24.970712Z  \n",
       "2      US   14392035           166000         362  2020-08-31T18:36:35.725854Z  \n",
       "3      CA   11405274           256000         193         2019-01-25T00:48:09Z  \n",
       "4      US   78758088          1400000         291         2011-05-24T01:52:48Z  "
      ]
     },
     "execution_count": 4,
     "metadata": {},
     "output_type": "execute_result"
    }
   ],
   "source": [
    "# CSV dosyasının yolu\n",
    "df = pd.read_csv(\"data/kanal_verileri.csv\")\n",
    "\n",
    "df.head()"
   ]
  },
  {
   "cell_type": "markdown",
   "id": "2e89c02d",
   "metadata": {},
   "source": [
    "Ranking Channels by Subscriber Count"
   ]
  },
  {
   "cell_type": "code",
   "execution_count": 5,
   "id": "6312368b",
   "metadata": {},
   "outputs": [
    {
     "data": {
      "text/html": [
       "<div>\n",
       "<style scoped>\n",
       "    .dataframe tbody tr th:only-of-type {\n",
       "        vertical-align: middle;\n",
       "    }\n",
       "\n",
       "    .dataframe tbody tr th {\n",
       "        vertical-align: top;\n",
       "    }\n",
       "\n",
       "    .dataframe thead th {\n",
       "        text-align: right;\n",
       "    }\n",
       "</style>\n",
       "<table border=\"1\" class=\"dataframe\">\n",
       "  <thead>\n",
       "    <tr style=\"text-align: right;\">\n",
       "      <th></th>\n",
       "      <th>title</th>\n",
       "      <th>subscriberCount</th>\n",
       "    </tr>\n",
       "  </thead>\n",
       "  <tbody>\n",
       "    <tr>\n",
       "      <th>0</th>\n",
       "      <td>freeCodeCamp.org</td>\n",
       "      <td>10700000</td>\n",
       "    </tr>\n",
       "    <tr>\n",
       "      <th>4</th>\n",
       "      <td>StatQuest with Josh Starmer</td>\n",
       "      <td>1400000</td>\n",
       "    </tr>\n",
       "    <tr>\n",
       "      <th>1</th>\n",
       "      <td>Alex The Analyst</td>\n",
       "      <td>1050000</td>\n",
       "    </tr>\n",
       "    <tr>\n",
       "      <th>3</th>\n",
       "      <td>Python Simplified</td>\n",
       "      <td>256000</td>\n",
       "    </tr>\n",
       "    <tr>\n",
       "      <th>2</th>\n",
       "      <td>AssemblyAI</td>\n",
       "      <td>166000</td>\n",
       "    </tr>\n",
       "  </tbody>\n",
       "</table>\n",
       "</div>"
      ],
      "text/plain": [
       "                         title  subscriberCount\n",
       "0             freeCodeCamp.org         10700000\n",
       "4  StatQuest with Josh Starmer          1400000\n",
       "1             Alex The Analyst          1050000\n",
       "3            Python Simplified           256000\n",
       "2                   AssemblyAI           166000"
      ]
     },
     "execution_count": 5,
     "metadata": {},
     "output_type": "execute_result"
    }
   ],
   "source": [
    "df_sorted_subscribers = df.sort_values(by='subscriberCount', ascending=False)\n",
    "df_sorted_subscribers[['title', 'subscriberCount']].head()"
   ]
  },
  {
   "cell_type": "markdown",
   "id": "6f1a7162",
   "metadata": {},
   "source": [
    "Channels with the Most Views"
   ]
  },
  {
   "cell_type": "code",
   "execution_count": 6,
   "id": "003eaab9",
   "metadata": {},
   "outputs": [
    {
     "data": {
      "text/html": [
       "<div>\n",
       "<style scoped>\n",
       "    .dataframe tbody tr th:only-of-type {\n",
       "        vertical-align: middle;\n",
       "    }\n",
       "\n",
       "    .dataframe tbody tr th {\n",
       "        vertical-align: top;\n",
       "    }\n",
       "\n",
       "    .dataframe thead th {\n",
       "        text-align: right;\n",
       "    }\n",
       "</style>\n",
       "<table border=\"1\" class=\"dataframe\">\n",
       "  <thead>\n",
       "    <tr style=\"text-align: right;\">\n",
       "      <th></th>\n",
       "      <th>title</th>\n",
       "      <th>viewCount</th>\n",
       "    </tr>\n",
       "  </thead>\n",
       "  <tbody>\n",
       "    <tr>\n",
       "      <th>0</th>\n",
       "      <td>freeCodeCamp.org</td>\n",
       "      <td>859507965</td>\n",
       "    </tr>\n",
       "    <tr>\n",
       "      <th>4</th>\n",
       "      <td>StatQuest with Josh Starmer</td>\n",
       "      <td>78758088</td>\n",
       "    </tr>\n",
       "    <tr>\n",
       "      <th>1</th>\n",
       "      <td>Alex The Analyst</td>\n",
       "      <td>49270050</td>\n",
       "    </tr>\n",
       "    <tr>\n",
       "      <th>2</th>\n",
       "      <td>AssemblyAI</td>\n",
       "      <td>14392035</td>\n",
       "    </tr>\n",
       "    <tr>\n",
       "      <th>3</th>\n",
       "      <td>Python Simplified</td>\n",
       "      <td>11405274</td>\n",
       "    </tr>\n",
       "  </tbody>\n",
       "</table>\n",
       "</div>"
      ],
      "text/plain": [
       "                         title  viewCount\n",
       "0             freeCodeCamp.org  859507965\n",
       "4  StatQuest with Josh Starmer   78758088\n",
       "1             Alex The Analyst   49270050\n",
       "2                   AssemblyAI   14392035\n",
       "3            Python Simplified   11405274"
      ]
     },
     "execution_count": 6,
     "metadata": {},
     "output_type": "execute_result"
    }
   ],
   "source": [
    "df_sorted_views = df.sort_values(by='viewCount', ascending=False)\n",
    "df_sorted_views[['title', 'viewCount']].head(10)"
   ]
  },
  {
   "cell_type": "markdown",
   "id": "f7edd827",
   "metadata": {},
   "source": [
    "Ranking Channels by Number of Videos"
   ]
  },
  {
   "cell_type": "code",
   "execution_count": 7,
   "id": "a3734523",
   "metadata": {},
   "outputs": [
    {
     "data": {
      "text/html": [
       "<div>\n",
       "<style scoped>\n",
       "    .dataframe tbody tr th:only-of-type {\n",
       "        vertical-align: middle;\n",
       "    }\n",
       "\n",
       "    .dataframe tbody tr th {\n",
       "        vertical-align: top;\n",
       "    }\n",
       "\n",
       "    .dataframe thead th {\n",
       "        text-align: right;\n",
       "    }\n",
       "</style>\n",
       "<table border=\"1\" class=\"dataframe\">\n",
       "  <thead>\n",
       "    <tr style=\"text-align: right;\">\n",
       "      <th></th>\n",
       "      <th>title</th>\n",
       "      <th>videoCount</th>\n",
       "    </tr>\n",
       "  </thead>\n",
       "  <tbody>\n",
       "    <tr>\n",
       "      <th>0</th>\n",
       "      <td>freeCodeCamp.org</td>\n",
       "      <td>1848</td>\n",
       "    </tr>\n",
       "    <tr>\n",
       "      <th>2</th>\n",
       "      <td>AssemblyAI</td>\n",
       "      <td>362</td>\n",
       "    </tr>\n",
       "    <tr>\n",
       "      <th>1</th>\n",
       "      <td>Alex The Analyst</td>\n",
       "      <td>360</td>\n",
       "    </tr>\n",
       "    <tr>\n",
       "      <th>4</th>\n",
       "      <td>StatQuest with Josh Starmer</td>\n",
       "      <td>291</td>\n",
       "    </tr>\n",
       "    <tr>\n",
       "      <th>3</th>\n",
       "      <td>Python Simplified</td>\n",
       "      <td>193</td>\n",
       "    </tr>\n",
       "  </tbody>\n",
       "</table>\n",
       "</div>"
      ],
      "text/plain": [
       "                         title  videoCount\n",
       "0             freeCodeCamp.org        1848\n",
       "2                   AssemblyAI         362\n",
       "1             Alex The Analyst         360\n",
       "4  StatQuest with Josh Starmer         291\n",
       "3            Python Simplified         193"
      ]
     },
     "execution_count": 7,
     "metadata": {},
     "output_type": "execute_result"
    }
   ],
   "source": [
    "df_sorted_videos = df.sort_values(by='videoCount', ascending=False)\n",
    "df_sorted_videos[['title', 'videoCount']].head()"
   ]
  },
  {
   "cell_type": "markdown",
   "id": "846a3999",
   "metadata": {},
   "source": [
    "Channel Distribution by Country"
   ]
  },
  {
   "cell_type": "code",
   "execution_count": 8,
   "id": "61b167bf",
   "metadata": {},
   "outputs": [
    {
     "data": {
      "text/plain": [
       "country\n",
       "US    4\n",
       "CA    1\n",
       "Name: count, dtype: int64"
      ]
     },
     "execution_count": 8,
     "metadata": {},
     "output_type": "execute_result"
    }
   ],
   "source": [
    "df_country_distribution = df['country'].value_counts()\n",
    "df_country_distribution"
   ]
  },
  {
   "cell_type": "markdown",
   "id": "69814d67",
   "metadata": {},
   "source": [
    "Correlation Between Subscriber Count and View Count"
   ]
  },
  {
   "cell_type": "code",
   "execution_count": 9,
   "id": "e3ce14a4",
   "metadata": {},
   "outputs": [
    {
     "data": {
      "text/html": [
       "<div>\n",
       "<style scoped>\n",
       "    .dataframe tbody tr th:only-of-type {\n",
       "        vertical-align: middle;\n",
       "    }\n",
       "\n",
       "    .dataframe tbody tr th {\n",
       "        vertical-align: top;\n",
       "    }\n",
       "\n",
       "    .dataframe thead th {\n",
       "        text-align: right;\n",
       "    }\n",
       "</style>\n",
       "<table border=\"1\" class=\"dataframe\">\n",
       "  <thead>\n",
       "    <tr style=\"text-align: right;\">\n",
       "      <th></th>\n",
       "      <th>subscriberCount</th>\n",
       "      <th>viewCount</th>\n",
       "    </tr>\n",
       "  </thead>\n",
       "  <tbody>\n",
       "    <tr>\n",
       "      <th>subscriberCount</th>\n",
       "      <td>1.000000</td>\n",
       "      <td>0.999001</td>\n",
       "    </tr>\n",
       "    <tr>\n",
       "      <th>viewCount</th>\n",
       "      <td>0.999001</td>\n",
       "      <td>1.000000</td>\n",
       "    </tr>\n",
       "  </tbody>\n",
       "</table>\n",
       "</div>"
      ],
      "text/plain": [
       "                 subscriberCount  viewCount\n",
       "subscriberCount         1.000000   0.999001\n",
       "viewCount               0.999001   1.000000"
      ]
     },
     "execution_count": 9,
     "metadata": {},
     "output_type": "execute_result"
    }
   ],
   "source": [
    "correlation = df[['subscriberCount', 'viewCount']].corr()\n",
    "correlation"
   ]
  },
  {
   "cell_type": "markdown",
   "id": "a2feff69",
   "metadata": {},
   "source": [
    "Average Subscriber Count by Country"
   ]
  },
  {
   "cell_type": "code",
   "execution_count": 10,
   "id": "26bbdfd0",
   "metadata": {},
   "outputs": [
    {
     "data": {
      "text/plain": [
       "country\n",
       "US    3329000.0\n",
       "CA     256000.0\n",
       "Name: subscriberCount, dtype: float64"
      ]
     },
     "execution_count": 10,
     "metadata": {},
     "output_type": "execute_result"
    }
   ],
   "source": [
    "df_country_avg_subscribers = df.groupby('country')['subscriberCount'].mean().sort_values(ascending=False)\n",
    "df_country_avg_subscribers"
   ]
  },
  {
   "cell_type": "markdown",
   "id": "ce67d9a7",
   "metadata": {},
   "source": [
    "Average View Count by Number of Videos"
   ]
  },
  {
   "cell_type": "code",
   "execution_count": 11,
   "id": "c6ea4e8c",
   "metadata": {},
   "outputs": [
    {
     "name": "stdout",
     "output_type": "stream",
     "text": [
      "                         title  total_views  total_videos  avg_views_per_video\n",
      "0             Alex The Analyst     49270050           360        136861.250000\n",
      "1                   AssemblyAI     14392035           362         39757.002762\n",
      "2            Python Simplified     11405274           193         59094.683938\n",
      "3  StatQuest with Josh Starmer     78758088           291        270646.350515\n",
      "4             freeCodeCamp.org    859507965          1848        465101.712662\n"
     ]
    }
   ],
   "source": [
    "df_grouped = df.groupby('title').agg(\n",
    "    total_views=('viewCount', 'sum'),\n",
    "    total_videos=('videoCount', 'sum')\n",
    ").reset_index()\n",
    "\n",
    "# Ortalama görüntülenme sayısını hesaplama\n",
    "df_grouped['avg_views_per_video'] = df_grouped['total_views'] / df_grouped['total_videos']\n",
    "\n",
    "# Sonuçları yazdırma\n",
    "df_grouped[['title', 'avg_views_per_video']]\n",
    "print(df_grouped)\n",
    "\n"
   ]
  },
  {
   "cell_type": "code",
   "execution_count": null,
   "id": "6af9ccc3",
   "metadata": {},
   "outputs": [],
   "source": []
  }
 ],
 "metadata": {
  "kernelspec": {
   "display_name": "base",
   "language": "python",
   "name": "python3"
  },
  "language_info": {
   "codemirror_mode": {
    "name": "ipython",
    "version": 3
   },
   "file_extension": ".py",
   "mimetype": "text/x-python",
   "name": "python",
   "nbconvert_exporter": "python",
   "pygments_lexer": "ipython3",
   "version": "3.12.7"
  }
 },
 "nbformat": 4,
 "nbformat_minor": 5
}
